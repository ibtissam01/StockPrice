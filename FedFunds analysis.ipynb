{
 "cells": [
  {
   "cell_type": "markdown",
   "id": "1552b31f",
   "metadata": {},
   "source": [
    "### Fed Fund Rate\n",
    "\n",
    "•\tThe federal funds rate is the target interest rate set by the  Federal Open Market Committee (FOMC).\n",
    "\n",
    "•\tThis is the rate at which commercial banks borrow and lend their excess reserves to each other overnight.\n",
    "\n",
    "•\tThe FOMC sets a target federal funds rate eight times a year, based on prevailing economic conditions.\n",
    "\n",
    "•\tThe federal funds rate can influence short-term rates on consumer loans and credit cards.\n",
    "\n",
    "•\tInvestors keep an eye out on the federal funds rate as well because it has an impact on the stock market."
   ]
  },
  {
   "cell_type": "markdown",
   "id": "9481f262",
   "metadata": {},
   "source": [
    "### Import Libraries"
   ]
  },
  {
   "cell_type": "code",
   "execution_count": 1,
   "id": "fc2a25c8",
   "metadata": {},
   "outputs": [],
   "source": [
    "import numpy as np\n",
    "import pandas as pd\n",
    "import matplotlib.pyplot as plt\n",
    "%matplotlib inline\n",
    "import seaborn as sns\n",
    "import warnings\n",
    "warnings.filterwarnings(\"ignore\")"
   ]
  },
  {
   "cell_type": "markdown",
   "id": "1bef136d",
   "metadata": {},
   "source": [
    "### Import dataset"
   ]
  },
  {
   "cell_type": "code",
   "execution_count": 2,
   "id": "98c82b8f",
   "metadata": {},
   "outputs": [],
   "source": [
    "fed_fund_data =  pd.read_csv(\"FEDFUNDS_DATA.csv\")\n"
   ]
  },
  {
   "cell_type": "markdown",
   "id": "30252dd6",
   "metadata": {},
   "source": [
    "### Data Exploration"
   ]
  },
  {
   "cell_type": "code",
   "execution_count": 3,
   "id": "6005e78c",
   "metadata": {},
   "outputs": [
    {
     "data": {
      "text/html": [
       "<div>\n",
       "<style scoped>\n",
       "    .dataframe tbody tr th:only-of-type {\n",
       "        vertical-align: middle;\n",
       "    }\n",
       "\n",
       "    .dataframe tbody tr th {\n",
       "        vertical-align: top;\n",
       "    }\n",
       "\n",
       "    .dataframe thead th {\n",
       "        text-align: right;\n",
       "    }\n",
       "</style>\n",
       "<table border=\"1\" class=\"dataframe\">\n",
       "  <thead>\n",
       "    <tr style=\"text-align: right;\">\n",
       "      <th></th>\n",
       "      <th>DATE</th>\n",
       "      <th>FEDFUNDS</th>\n",
       "    </tr>\n",
       "  </thead>\n",
       "  <tbody>\n",
       "    <tr>\n",
       "      <th>0</th>\n",
       "      <td>1954-07-01</td>\n",
       "      <td>0.80</td>\n",
       "    </tr>\n",
       "    <tr>\n",
       "      <th>1</th>\n",
       "      <td>1954-08-01</td>\n",
       "      <td>1.22</td>\n",
       "    </tr>\n",
       "    <tr>\n",
       "      <th>2</th>\n",
       "      <td>1954-09-01</td>\n",
       "      <td>1.07</td>\n",
       "    </tr>\n",
       "    <tr>\n",
       "      <th>3</th>\n",
       "      <td>1954-10-01</td>\n",
       "      <td>0.85</td>\n",
       "    </tr>\n",
       "    <tr>\n",
       "      <th>4</th>\n",
       "      <td>1954-11-01</td>\n",
       "      <td>0.83</td>\n",
       "    </tr>\n",
       "  </tbody>\n",
       "</table>\n",
       "</div>"
      ],
      "text/plain": [
       "         DATE  FEDFUNDS\n",
       "0  1954-07-01      0.80\n",
       "1  1954-08-01      1.22\n",
       "2  1954-09-01      1.07\n",
       "3  1954-10-01      0.85\n",
       "4  1954-11-01      0.83"
      ]
     },
     "execution_count": 3,
     "metadata": {},
     "output_type": "execute_result"
    }
   ],
   "source": [
    "fed_fund_data.head()"
   ]
  },
  {
   "cell_type": "code",
   "execution_count": 4,
   "id": "ecf5b08d",
   "metadata": {},
   "outputs": [
    {
     "data": {
      "text/html": [
       "<div>\n",
       "<style scoped>\n",
       "    .dataframe tbody tr th:only-of-type {\n",
       "        vertical-align: middle;\n",
       "    }\n",
       "\n",
       "    .dataframe tbody tr th {\n",
       "        vertical-align: top;\n",
       "    }\n",
       "\n",
       "    .dataframe thead th {\n",
       "        text-align: right;\n",
       "    }\n",
       "</style>\n",
       "<table border=\"1\" class=\"dataframe\">\n",
       "  <thead>\n",
       "    <tr style=\"text-align: right;\">\n",
       "      <th></th>\n",
       "      <th>DATE</th>\n",
       "      <th>FEDFUNDS</th>\n",
       "    </tr>\n",
       "  </thead>\n",
       "  <tbody>\n",
       "    <tr>\n",
       "      <th>810</th>\n",
       "      <td>2022-01-01</td>\n",
       "      <td>0.08</td>\n",
       "    </tr>\n",
       "    <tr>\n",
       "      <th>811</th>\n",
       "      <td>2022-02-01</td>\n",
       "      <td>0.08</td>\n",
       "    </tr>\n",
       "    <tr>\n",
       "      <th>812</th>\n",
       "      <td>2022-03-01</td>\n",
       "      <td>0.20</td>\n",
       "    </tr>\n",
       "    <tr>\n",
       "      <th>813</th>\n",
       "      <td>2022-04-01</td>\n",
       "      <td>0.33</td>\n",
       "    </tr>\n",
       "    <tr>\n",
       "      <th>814</th>\n",
       "      <td>2022-05-01</td>\n",
       "      <td>0.77</td>\n",
       "    </tr>\n",
       "  </tbody>\n",
       "</table>\n",
       "</div>"
      ],
      "text/plain": [
       "           DATE  FEDFUNDS\n",
       "810  2022-01-01      0.08\n",
       "811  2022-02-01      0.08\n",
       "812  2022-03-01      0.20\n",
       "813  2022-04-01      0.33\n",
       "814  2022-05-01      0.77"
      ]
     },
     "execution_count": 4,
     "metadata": {},
     "output_type": "execute_result"
    }
   ],
   "source": [
    "fed_fund_data.tail()"
   ]
  },
  {
   "cell_type": "code",
   "execution_count": 5,
   "id": "f2ca061c",
   "metadata": {},
   "outputs": [
    {
     "data": {
      "text/plain": [
       "(815, 2)"
      ]
     },
     "execution_count": 5,
     "metadata": {},
     "output_type": "execute_result"
    }
   ],
   "source": [
    "# check shape of dataset\n",
    "fed_fund_data.shape"
   ]
  },
  {
   "cell_type": "markdown",
   "id": "c58b9768",
   "metadata": {},
   "source": [
    "There are **815 rows & 2 columns** in dataset."
   ]
  },
  {
   "cell_type": "code",
   "execution_count": 6,
   "id": "97725a27",
   "metadata": {},
   "outputs": [
    {
     "name": "stdout",
     "output_type": "stream",
     "text": [
      "<class 'pandas.core.frame.DataFrame'>\n",
      "RangeIndex: 815 entries, 0 to 814\n",
      "Data columns (total 2 columns):\n",
      " #   Column    Non-Null Count  Dtype  \n",
      "---  ------    --------------  -----  \n",
      " 0   DATE      815 non-null    object \n",
      " 1   FEDFUNDS  815 non-null    float64\n",
      "dtypes: float64(1), object(1)\n",
      "memory usage: 12.9+ KB\n"
     ]
    }
   ],
   "source": [
    "# check basic info of dataset\n",
    "fed_fund_data.info()"
   ]
  },
  {
   "cell_type": "code",
   "execution_count": 7,
   "id": "27d9c8d9",
   "metadata": {},
   "outputs": [
    {
     "data": {
      "text/html": [
       "<div>\n",
       "<style scoped>\n",
       "    .dataframe tbody tr th:only-of-type {\n",
       "        vertical-align: middle;\n",
       "    }\n",
       "\n",
       "    .dataframe tbody tr th {\n",
       "        vertical-align: top;\n",
       "    }\n",
       "\n",
       "    .dataframe thead th {\n",
       "        text-align: right;\n",
       "    }\n",
       "</style>\n",
       "<table border=\"1\" class=\"dataframe\">\n",
       "  <thead>\n",
       "    <tr style=\"text-align: right;\">\n",
       "      <th></th>\n",
       "      <th>FEDFUNDS</th>\n",
       "    </tr>\n",
       "  </thead>\n",
       "  <tbody>\n",
       "    <tr>\n",
       "      <th>count</th>\n",
       "      <td>815.000000</td>\n",
       "    </tr>\n",
       "    <tr>\n",
       "      <th>mean</th>\n",
       "      <td>4.611975</td>\n",
       "    </tr>\n",
       "    <tr>\n",
       "      <th>std</th>\n",
       "      <td>3.628001</td>\n",
       "    </tr>\n",
       "    <tr>\n",
       "      <th>min</th>\n",
       "      <td>0.050000</td>\n",
       "    </tr>\n",
       "    <tr>\n",
       "      <th>25%</th>\n",
       "      <td>1.755000</td>\n",
       "    </tr>\n",
       "    <tr>\n",
       "      <th>50%</th>\n",
       "      <td>4.140000</td>\n",
       "    </tr>\n",
       "    <tr>\n",
       "      <th>75%</th>\n",
       "      <td>6.335000</td>\n",
       "    </tr>\n",
       "    <tr>\n",
       "      <th>max</th>\n",
       "      <td>19.100000</td>\n",
       "    </tr>\n",
       "  </tbody>\n",
       "</table>\n",
       "</div>"
      ],
      "text/plain": [
       "         FEDFUNDS\n",
       "count  815.000000\n",
       "mean     4.611975\n",
       "std      3.628001\n",
       "min      0.050000\n",
       "25%      1.755000\n",
       "50%      4.140000\n",
       "75%      6.335000\n",
       "max     19.100000"
      ]
     },
     "execution_count": 7,
     "metadata": {},
     "output_type": "execute_result"
    }
   ],
   "source": [
    "# check statisical summary of dataset\n",
    "fed_fund_data.describe()"
   ]
  },
  {
   "cell_type": "code",
   "execution_count": 8,
   "id": "280d704e",
   "metadata": {},
   "outputs": [
    {
     "data": {
      "text/plain": [
       "DATE        0\n",
       "FEDFUNDS    0\n",
       "dtype: int64"
      ]
     },
     "execution_count": 8,
     "metadata": {},
     "output_type": "execute_result"
    }
   ],
   "source": [
    "# check is there missing values present in dataset or not\n",
    "fed_fund_data.isnull().sum()"
   ]
  },
  {
   "cell_type": "markdown",
   "id": "7bff9412",
   "metadata": {},
   "source": [
    "No missing values present in dataset."
   ]
  },
  {
   "cell_type": "markdown",
   "id": "96f49eca",
   "metadata": {},
   "source": [
    "* **Convert date into datetime format**"
   ]
  },
  {
   "cell_type": "code",
   "execution_count": 9,
   "id": "f922e0ef",
   "metadata": {},
   "outputs": [],
   "source": [
    "fed_fund_data[\"DATE\"]= pd.to_datetime(fed_fund_data[\"DATE\"])"
   ]
  },
  {
   "cell_type": "code",
   "execution_count": 10,
   "id": "76abbe68",
   "metadata": {},
   "outputs": [
    {
     "data": {
      "text/html": [
       "<div>\n",
       "<style scoped>\n",
       "    .dataframe tbody tr th:only-of-type {\n",
       "        vertical-align: middle;\n",
       "    }\n",
       "\n",
       "    .dataframe tbody tr th {\n",
       "        vertical-align: top;\n",
       "    }\n",
       "\n",
       "    .dataframe thead th {\n",
       "        text-align: right;\n",
       "    }\n",
       "</style>\n",
       "<table border=\"1\" class=\"dataframe\">\n",
       "  <thead>\n",
       "    <tr style=\"text-align: right;\">\n",
       "      <th></th>\n",
       "      <th>DATE</th>\n",
       "      <th>FEDFUNDS</th>\n",
       "      <th>YEAR</th>\n",
       "      <th>MONTH</th>\n",
       "      <th>DAY</th>\n",
       "    </tr>\n",
       "  </thead>\n",
       "  <tbody>\n",
       "    <tr>\n",
       "      <th>0</th>\n",
       "      <td>1954-07-01</td>\n",
       "      <td>0.80</td>\n",
       "      <td>1954</td>\n",
       "      <td>7</td>\n",
       "      <td>1</td>\n",
       "    </tr>\n",
       "    <tr>\n",
       "      <th>1</th>\n",
       "      <td>1954-08-01</td>\n",
       "      <td>1.22</td>\n",
       "      <td>1954</td>\n",
       "      <td>8</td>\n",
       "      <td>1</td>\n",
       "    </tr>\n",
       "    <tr>\n",
       "      <th>2</th>\n",
       "      <td>1954-09-01</td>\n",
       "      <td>1.07</td>\n",
       "      <td>1954</td>\n",
       "      <td>9</td>\n",
       "      <td>1</td>\n",
       "    </tr>\n",
       "    <tr>\n",
       "      <th>3</th>\n",
       "      <td>1954-10-01</td>\n",
       "      <td>0.85</td>\n",
       "      <td>1954</td>\n",
       "      <td>10</td>\n",
       "      <td>1</td>\n",
       "    </tr>\n",
       "    <tr>\n",
       "      <th>4</th>\n",
       "      <td>1954-11-01</td>\n",
       "      <td>0.83</td>\n",
       "      <td>1954</td>\n",
       "      <td>11</td>\n",
       "      <td>1</td>\n",
       "    </tr>\n",
       "  </tbody>\n",
       "</table>\n",
       "</div>"
      ],
      "text/plain": [
       "        DATE  FEDFUNDS  YEAR  MONTH  DAY\n",
       "0 1954-07-01      0.80  1954      7    1\n",
       "1 1954-08-01      1.22  1954      8    1\n",
       "2 1954-09-01      1.07  1954      9    1\n",
       "3 1954-10-01      0.85  1954     10    1\n",
       "4 1954-11-01      0.83  1954     11    1"
      ]
     },
     "execution_count": 10,
     "metadata": {},
     "output_type": "execute_result"
    }
   ],
   "source": [
    "fed_fund_data['YEAR'] = fed_fund_data['DATE'].dt.year\n",
    "fed_fund_data['MONTH'] = fed_fund_data['DATE'].dt.month\n",
    "fed_fund_data['DAY'] = fed_fund_data['DATE'].dt.day\n",
    "#fed_fund_data.drop(\"DATE\", axis=1, inplace=True)\n",
    "fed_fund_data.head()"
   ]
  },
  {
   "cell_type": "markdown",
   "id": "ea2b4c91",
   "metadata": {},
   "source": [
    "Here we convert the **\"DATE\"** feature into datetime format."
   ]
  },
  {
   "cell_type": "markdown",
   "id": "5a59946d",
   "metadata": {},
   "source": [
    "### Exploratory Data Analysis"
   ]
  },
  {
   "cell_type": "markdown",
   "id": "f30e857c",
   "metadata": {},
   "source": [
    "* **Plot lineplot to see Fed fund rate per years**"
   ]
  },
  {
   "cell_type": "code",
   "execution_count": 11,
   "id": "e97b30bd",
   "metadata": {},
   "outputs": [
    {
     "data": {
      "image/png": "[encoded data removed]",
      "text/plain": [
       "<Figure size 432x288 with 1 Axes>"
      ]
     },
     "metadata": {
      "needs_background": "light"
     },
     "output_type": "display_data"
    }
   ],
   "source": [
    "sns.lineplot(x= fed_fund_data[\"YEAR\"], y=fed_fund_data['FEDFUNDS'])\n",
    "plt.title(\"Fed Fund Rate per Year\")\n",
    "plt.show()"
   ]
  },
  {
   "cell_type": "markdown",
   "id": "75279828",
   "metadata": {},
   "source": [
    "* We can see here the fed fund rate is higher in the year **1980-1982**."
   ]
  },
  {
   "cell_type": "code",
   "execution_count": 12,
   "id": "30e9a09d",
   "metadata": {},
   "outputs": [
    {
     "data": {
      "text/html": [
       "<div>\n",
       "<style scoped>\n",
       "    .dataframe tbody tr th:only-of-type {\n",
       "        vertical-align: middle;\n",
       "    }\n",
       "\n",
       "    .dataframe tbody tr th {\n",
       "        vertical-align: top;\n",
       "    }\n",
       "\n",
       "    .dataframe thead th {\n",
       "        text-align: right;\n",
       "    }\n",
       "</style>\n",
       "<table border=\"1\" class=\"dataframe\">\n",
       "  <thead>\n",
       "    <tr style=\"text-align: right;\">\n",
       "      <th></th>\n",
       "      <th>DATE</th>\n",
       "      <th>FEDFUNDS</th>\n",
       "      <th>YEAR</th>\n",
       "      <th>MONTH</th>\n",
       "      <th>DAY</th>\n",
       "    </tr>\n",
       "  </thead>\n",
       "  <tbody>\n",
       "    <tr>\n",
       "      <th>323</th>\n",
       "      <td>1981-06-01</td>\n",
       "      <td>19.1</td>\n",
       "      <td>1981</td>\n",
       "      <td>6</td>\n",
       "      <td>1</td>\n",
       "    </tr>\n",
       "  </tbody>\n",
       "</table>\n",
       "</div>"
      ],
      "text/plain": [
       "          DATE  FEDFUNDS  YEAR  MONTH  DAY\n",
       "323 1981-06-01      19.1  1981      6    1"
      ]
     },
     "execution_count": 12,
     "metadata": {},
     "output_type": "execute_result"
    }
   ],
   "source": [
    "fed_fund_data[fed_fund_data['FEDFUNDS']==(fed_fund_data['FEDFUNDS'].max())]"
   ]
  },
  {
   "cell_type": "markdown",
   "id": "694df222",
   "metadata": {},
   "source": [
    "* Fed fund rate is maximum in the the year **06-1981** that is **19.1**."
   ]
  },
  {
   "cell_type": "code",
   "execution_count": 13,
   "id": "e2a8e40e",
   "metadata": {},
   "outputs": [
    {
     "data": {
      "text/html": [
       "<div>\n",
       "<style scoped>\n",
       "    .dataframe tbody tr th:only-of-type {\n",
       "        vertical-align: middle;\n",
       "    }\n",
       "\n",
       "    .dataframe tbody tr th {\n",
       "        vertical-align: top;\n",
       "    }\n",
       "\n",
       "    .dataframe thead th {\n",
       "        text-align: right;\n",
       "    }\n",
       "</style>\n",
       "<table border=\"1\" class=\"dataframe\">\n",
       "  <thead>\n",
       "    <tr style=\"text-align: right;\">\n",
       "      <th></th>\n",
       "      <th>FEDFUNDS</th>\n",
       "      <th>YEAR</th>\n",
       "      <th>MONTH</th>\n",
       "      <th>DAY</th>\n",
       "    </tr>\n",
       "    <tr>\n",
       "      <th>DATE</th>\n",
       "      <th></th>\n",
       "      <th></th>\n",
       "      <th></th>\n",
       "      <th></th>\n",
       "    </tr>\n",
       "  </thead>\n",
       "  <tbody>\n",
       "    <tr>\n",
       "      <th>1954-07-01</th>\n",
       "      <td>0.80</td>\n",
       "      <td>1954</td>\n",
       "      <td>7</td>\n",
       "      <td>1</td>\n",
       "    </tr>\n",
       "    <tr>\n",
       "      <th>1954-08-01</th>\n",
       "      <td>1.22</td>\n",
       "      <td>1954</td>\n",
       "      <td>8</td>\n",
       "      <td>1</td>\n",
       "    </tr>\n",
       "    <tr>\n",
       "      <th>1954-09-01</th>\n",
       "      <td>1.07</td>\n",
       "      <td>1954</td>\n",
       "      <td>9</td>\n",
       "      <td>1</td>\n",
       "    </tr>\n",
       "    <tr>\n",
       "      <th>1954-10-01</th>\n",
       "      <td>0.85</td>\n",
       "      <td>1954</td>\n",
       "      <td>10</td>\n",
       "      <td>1</td>\n",
       "    </tr>\n",
       "    <tr>\n",
       "      <th>1954-11-01</th>\n",
       "      <td>0.83</td>\n",
       "      <td>1954</td>\n",
       "      <td>11</td>\n",
       "      <td>1</td>\n",
       "    </tr>\n",
       "  </tbody>\n",
       "</table>\n",
       "</div>"
      ],
      "text/plain": [
       "            FEDFUNDS  YEAR  MONTH  DAY\n",
       "DATE                                  \n",
       "1954-07-01      0.80  1954      7    1\n",
       "1954-08-01      1.22  1954      8    1\n",
       "1954-09-01      1.07  1954      9    1\n",
       "1954-10-01      0.85  1954     10    1\n",
       "1954-11-01      0.83  1954     11    1"
      ]
     },
     "execution_count": 13,
     "metadata": {},
     "output_type": "execute_result"
    }
   ],
   "source": [
    "# Set date as Index\n",
    "fed_fund_data = fed_fund_data.set_index('DATE')\n",
    "fed_fund_data.head()"
   ]
  },
  {
   "cell_type": "code",
   "execution_count": 14,
   "id": "6fd33f40",
   "metadata": {},
   "outputs": [
    {
     "data": {
      "image/png": "[encoded data removed]",
      "text/plain": [
       "<Figure size 864x360 with 1 Axes>"
      ]
     },
     "metadata": {
      "needs_background": "light"
     },
     "output_type": "display_data"
    }
   ],
   "source": [
    "plt.figure(figsize = (12,5))\n",
    "plt.plot(fed_fund_data[\"FEDFUNDS\"])\n",
    "plt.xticks(rotation = 0)\n",
    "plt.title(\"FEDFUNDS History\")\n",
    "plt.xlabel(\"Date\")\n",
    "plt.ylabel(\"FEDFUNDS\")\n",
    "plt.show()"
   ]
  },
  {
   "cell_type": "code",
   "execution_count": null,
   "id": "c69940b7",
   "metadata": {},
   "outputs": [],
   "source": []
  },
  {
   "cell_type": "code",
   "execution_count": 15,
   "id": "5ef7f42c",
   "metadata": {},
   "outputs": [
    {
     "data": {
      "text/html": [
       "<div>\n",
       "<style scoped>\n",
       "    .dataframe tbody tr th:only-of-type {\n",
       "        vertical-align: middle;\n",
       "    }\n",
       "\n",
       "    .dataframe tbody tr th {\n",
       "        vertical-align: top;\n",
       "    }\n",
       "\n",
       "    .dataframe thead th {\n",
       "        text-align: right;\n",
       "    }\n",
       "</style>\n",
       "<table border=\"1\" class=\"dataframe\">\n",
       "  <thead>\n",
       "    <tr style=\"text-align: right;\">\n",
       "      <th>MONTH</th>\n",
       "      <th>1</th>\n",
       "      <th>2</th>\n",
       "      <th>3</th>\n",
       "      <th>4</th>\n",
       "      <th>5</th>\n",
       "      <th>6</th>\n",
       "      <th>7</th>\n",
       "      <th>8</th>\n",
       "      <th>9</th>\n",
       "      <th>10</th>\n",
       "      <th>11</th>\n",
       "      <th>12</th>\n",
       "    </tr>\n",
       "    <tr>\n",
       "      <th>YEAR</th>\n",
       "      <th></th>\n",
       "      <th></th>\n",
       "      <th></th>\n",
       "      <th></th>\n",
       "      <th></th>\n",
       "      <th></th>\n",
       "      <th></th>\n",
       "      <th></th>\n",
       "      <th></th>\n",
       "      <th></th>\n",
       "      <th></th>\n",
       "      <th></th>\n",
       "    </tr>\n",
       "  </thead>\n",
       "  <tbody>\n",
       "    <tr>\n",
       "      <th>2012</th>\n",
       "      <td>0.08</td>\n",
       "      <td>0.10</td>\n",
       "      <td>0.13</td>\n",
       "      <td>0.14</td>\n",
       "      <td>0.16</td>\n",
       "      <td>0.16</td>\n",
       "      <td>0.16</td>\n",
       "      <td>0.13</td>\n",
       "      <td>0.14</td>\n",
       "      <td>0.16</td>\n",
       "      <td>0.16</td>\n",
       "      <td>0.16</td>\n",
       "    </tr>\n",
       "    <tr>\n",
       "      <th>2013</th>\n",
       "      <td>0.14</td>\n",
       "      <td>0.15</td>\n",
       "      <td>0.14</td>\n",
       "      <td>0.15</td>\n",
       "      <td>0.11</td>\n",
       "      <td>0.09</td>\n",
       "      <td>0.09</td>\n",
       "      <td>0.08</td>\n",
       "      <td>0.08</td>\n",
       "      <td>0.09</td>\n",
       "      <td>0.08</td>\n",
       "      <td>0.09</td>\n",
       "    </tr>\n",
       "    <tr>\n",
       "      <th>2014</th>\n",
       "      <td>0.07</td>\n",
       "      <td>0.07</td>\n",
       "      <td>0.08</td>\n",
       "      <td>0.09</td>\n",
       "      <td>0.09</td>\n",
       "      <td>0.10</td>\n",
       "      <td>0.09</td>\n",
       "      <td>0.09</td>\n",
       "      <td>0.09</td>\n",
       "      <td>0.09</td>\n",
       "      <td>0.09</td>\n",
       "      <td>0.12</td>\n",
       "    </tr>\n",
       "    <tr>\n",
       "      <th>2015</th>\n",
       "      <td>0.11</td>\n",
       "      <td>0.11</td>\n",
       "      <td>0.11</td>\n",
       "      <td>0.12</td>\n",
       "      <td>0.12</td>\n",
       "      <td>0.13</td>\n",
       "      <td>0.13</td>\n",
       "      <td>0.14</td>\n",
       "      <td>0.14</td>\n",
       "      <td>0.12</td>\n",
       "      <td>0.12</td>\n",
       "      <td>0.24</td>\n",
       "    </tr>\n",
       "    <tr>\n",
       "      <th>2016</th>\n",
       "      <td>0.34</td>\n",
       "      <td>0.38</td>\n",
       "      <td>0.36</td>\n",
       "      <td>0.37</td>\n",
       "      <td>0.37</td>\n",
       "      <td>0.38</td>\n",
       "      <td>0.39</td>\n",
       "      <td>0.40</td>\n",
       "      <td>0.40</td>\n",
       "      <td>0.40</td>\n",
       "      <td>0.41</td>\n",
       "      <td>0.54</td>\n",
       "    </tr>\n",
       "    <tr>\n",
       "      <th>2017</th>\n",
       "      <td>0.65</td>\n",
       "      <td>0.66</td>\n",
       "      <td>0.79</td>\n",
       "      <td>0.90</td>\n",
       "      <td>0.91</td>\n",
       "      <td>1.04</td>\n",
       "      <td>1.15</td>\n",
       "      <td>1.16</td>\n",
       "      <td>1.15</td>\n",
       "      <td>1.15</td>\n",
       "      <td>1.16</td>\n",
       "      <td>1.30</td>\n",
       "    </tr>\n",
       "    <tr>\n",
       "      <th>2018</th>\n",
       "      <td>1.41</td>\n",
       "      <td>1.42</td>\n",
       "      <td>1.51</td>\n",
       "      <td>1.69</td>\n",
       "      <td>1.70</td>\n",
       "      <td>1.82</td>\n",
       "      <td>1.91</td>\n",
       "      <td>1.91</td>\n",
       "      <td>1.95</td>\n",
       "      <td>2.19</td>\n",
       "      <td>2.20</td>\n",
       "      <td>2.27</td>\n",
       "    </tr>\n",
       "    <tr>\n",
       "      <th>2019</th>\n",
       "      <td>2.40</td>\n",
       "      <td>2.40</td>\n",
       "      <td>2.41</td>\n",
       "      <td>2.42</td>\n",
       "      <td>2.39</td>\n",
       "      <td>2.38</td>\n",
       "      <td>2.40</td>\n",
       "      <td>2.13</td>\n",
       "      <td>2.04</td>\n",
       "      <td>1.83</td>\n",
       "      <td>1.55</td>\n",
       "      <td>1.55</td>\n",
       "    </tr>\n",
       "    <tr>\n",
       "      <th>2020</th>\n",
       "      <td>1.55</td>\n",
       "      <td>1.58</td>\n",
       "      <td>0.65</td>\n",
       "      <td>0.05</td>\n",
       "      <td>0.05</td>\n",
       "      <td>0.08</td>\n",
       "      <td>0.09</td>\n",
       "      <td>0.10</td>\n",
       "      <td>0.09</td>\n",
       "      <td>0.09</td>\n",
       "      <td>0.09</td>\n",
       "      <td>0.09</td>\n",
       "    </tr>\n",
       "    <tr>\n",
       "      <th>2021</th>\n",
       "      <td>0.09</td>\n",
       "      <td>0.08</td>\n",
       "      <td>0.07</td>\n",
       "      <td>0.07</td>\n",
       "      <td>0.06</td>\n",
       "      <td>0.08</td>\n",
       "      <td>0.10</td>\n",
       "      <td>0.09</td>\n",
       "      <td>0.08</td>\n",
       "      <td>0.08</td>\n",
       "      <td>0.08</td>\n",
       "      <td>0.08</td>\n",
       "    </tr>\n",
       "    <tr>\n",
       "      <th>2022</th>\n",
       "      <td>0.08</td>\n",
       "      <td>0.08</td>\n",
       "      <td>0.20</td>\n",
       "      <td>0.33</td>\n",
       "      <td>0.77</td>\n",
       "      <td>NaN</td>\n",
       "      <td>NaN</td>\n",
       "      <td>NaN</td>\n",
       "      <td>NaN</td>\n",
       "      <td>NaN</td>\n",
       "      <td>NaN</td>\n",
       "      <td>NaN</td>\n",
       "    </tr>\n",
       "  </tbody>\n",
       "</table>\n",
       "</div>"
      ],
      "text/plain": [
       "MONTH    1     2     3     4     5     6     7     8     9     10    11    12\n",
       "YEAR                                                                         \n",
       "2012   0.08  0.10  0.13  0.14  0.16  0.16  0.16  0.13  0.14  0.16  0.16  0.16\n",
       "2013   0.14  0.15  0.14  0.15  0.11  0.09  0.09  0.08  0.08  0.09  0.08  0.09\n",
       "2014   0.07  0.07  0.08  0.09  0.09  0.10  0.09  0.09  0.09  0.09  0.09  0.12\n",
       "2015   0.11  0.11  0.11  0.12  0.12  0.13  0.13  0.14  0.14  0.12  0.12  0.24\n",
       "2016   0.34  0.38  0.36  0.37  0.37  0.38  0.39  0.40  0.40  0.40  0.41  0.54\n",
       "2017   0.65  0.66  0.79  0.90  0.91  1.04  1.15  1.16  1.15  1.15  1.16  1.30\n",
       "2018   1.41  1.42  1.51  1.69  1.70  1.82  1.91  1.91  1.95  2.19  2.20  2.27\n",
       "2019   2.40  2.40  2.41  2.42  2.39  2.38  2.40  2.13  2.04  1.83  1.55  1.55\n",
       "2020   1.55  1.58  0.65  0.05  0.05  0.08  0.09  0.10  0.09  0.09  0.09  0.09\n",
       "2021   0.09  0.08  0.07  0.07  0.06  0.08  0.10  0.09  0.08  0.08  0.08  0.08\n",
       "2022   0.08  0.08  0.20  0.33  0.77   NaN   NaN   NaN   NaN   NaN   NaN   NaN"
      ]
     },
     "execution_count": 15,
     "metadata": {},
     "output_type": "execute_result"
    }
   ],
   "source": [
    "x2=fed_fund_data.set_index(\"YEAR\")\n",
    "x3=x2.loc[[2012,2013,2014,2015,2016,2017,2018,2019,2020,2021,2022],:]\n",
    "x4=x3.pivot_table(index=\"YEAR\", values=\"FEDFUNDS\",columns=\"MONTH\")\n",
    "x4"
   ]
  },
  {
   "cell_type": "code",
   "execution_count": 16,
   "id": "1e4cf34f",
   "metadata": {},
   "outputs": [
    {
     "data": {
      "image/png": "[encoded data removed]",
      "text/plain": [
       "<Figure size 1080x360 with 2 Axes>"
      ]
     },
     "metadata": {
      "needs_background": "light"
     },
     "output_type": "display_data"
    }
   ],
   "source": [
    "# Distribution of fund\n",
    "plt.figure(figsize=(15, 5))\n",
    "plt.subplot(1,2,1)\n",
    "sns.distplot((fed_fund_data['FEDFUNDS']))\n",
    "\n",
    "plt.subplot(1,2,2)\n",
    "sns.boxplot((fed_fund_data['FEDFUNDS']))\n",
    "\n",
    "plt.show()"
   ]
  },
  {
   "cell_type": "markdown",
   "id": "949fcf0a",
   "metadata": {},
   "source": [
    "* Here we can see some outliers present in the dataset. "
   ]
  },
  {
   "cell_type": "code",
   "execution_count": 17,
   "id": "1e37ba24",
   "metadata": {},
   "outputs": [],
   "source": [
    "    q1 = fed_fund_data['FEDFUNDS'].quantile(0.25)\n",
    "    q3 = fed_fund_data['FEDFUNDS'].quantile(0.75)\n",
    "    IQR = q3-q1\n",
    "    lower_limit = q1 - (IQR*1.5)\n",
    "    upper_limit = q3 + (IQR*1.5)\n",
    "    fed_fund_data.loc[fed_fund_data['FEDFUNDS']<lower_limit,'FEDFUNDS'] = lower_limit\n",
    "    fed_fund_data.loc[fed_fund_data['FEDFUNDS']>upper_limit,'FEDFUNDS'] = upper_limit"
   ]
  },
  {
   "cell_type": "code",
   "execution_count": 18,
   "id": "35cffb78",
   "metadata": {},
   "outputs": [
    {
     "data": {
      "image/png": "[encoded data removed]",
      "text/plain": [
       "<Figure size 432x288 with 1 Axes>"
      ]
     },
     "metadata": {
      "needs_background": "light"
     },
     "output_type": "display_data"
    }
   ],
   "source": [
    "sns.boxplot((fed_fund_data['FEDFUNDS']))\n",
    "plt.show()"
   ]
  },
  {
   "cell_type": "markdown",
   "id": "03d2050d",
   "metadata": {},
   "source": [
    "Outliers removed succesfully."
   ]
  },
  {
   "cell_type": "code",
   "execution_count": 19,
   "id": "86ba0a15",
   "metadata": {},
   "outputs": [
    {
     "data": {
      "text/html": [
       "<div>\n",
       "<style scoped>\n",
       "    .dataframe tbody tr th:only-of-type {\n",
       "        vertical-align: middle;\n",
       "    }\n",
       "\n",
       "    .dataframe tbody tr th {\n",
       "        vertical-align: top;\n",
       "    }\n",
       "\n",
       "    .dataframe thead th {\n",
       "        text-align: right;\n",
       "    }\n",
       "</style>\n",
       "<table border=\"1\" class=\"dataframe\">\n",
       "  <thead>\n",
       "    <tr style=\"text-align: right;\">\n",
       "      <th></th>\n",
       "      <th>FEDFUNDS</th>\n",
       "      <th>YEAR</th>\n",
       "      <th>MONTH</th>\n",
       "      <th>DAY</th>\n",
       "    </tr>\n",
       "    <tr>\n",
       "      <th>DATE</th>\n",
       "      <th></th>\n",
       "      <th></th>\n",
       "      <th></th>\n",
       "      <th></th>\n",
       "    </tr>\n",
       "  </thead>\n",
       "  <tbody>\n",
       "    <tr>\n",
       "      <th>1954-07-01</th>\n",
       "      <td>0.80</td>\n",
       "      <td>1954</td>\n",
       "      <td>7</td>\n",
       "      <td>1</td>\n",
       "    </tr>\n",
       "    <tr>\n",
       "      <th>1954-08-01</th>\n",
       "      <td>1.22</td>\n",
       "      <td>1954</td>\n",
       "      <td>8</td>\n",
       "      <td>1</td>\n",
       "    </tr>\n",
       "    <tr>\n",
       "      <th>1954-09-01</th>\n",
       "      <td>1.07</td>\n",
       "      <td>1954</td>\n",
       "      <td>9</td>\n",
       "      <td>1</td>\n",
       "    </tr>\n",
       "    <tr>\n",
       "      <th>1954-10-01</th>\n",
       "      <td>0.85</td>\n",
       "      <td>1954</td>\n",
       "      <td>10</td>\n",
       "      <td>1</td>\n",
       "    </tr>\n",
       "    <tr>\n",
       "      <th>1954-11-01</th>\n",
       "      <td>0.83</td>\n",
       "      <td>1954</td>\n",
       "      <td>11</td>\n",
       "      <td>1</td>\n",
       "    </tr>\n",
       "  </tbody>\n",
       "</table>\n",
       "</div>"
      ],
      "text/plain": [
       "            FEDFUNDS  YEAR  MONTH  DAY\n",
       "DATE                                  \n",
       "1954-07-01      0.80  1954      7    1\n",
       "1954-08-01      1.22  1954      8    1\n",
       "1954-09-01      1.07  1954      9    1\n",
       "1954-10-01      0.85  1954     10    1\n",
       "1954-11-01      0.83  1954     11    1"
      ]
     },
     "execution_count": 19,
     "metadata": {},
     "output_type": "execute_result"
    }
   ],
   "source": [
    "fed_fund_data.head()"
   ]
  },
  {
   "cell_type": "code",
   "execution_count": 20,
   "id": "229c63a8",
   "metadata": {},
   "outputs": [],
   "source": [
    "fed_fund_data.to_csv(\"final_fed.csv\",index=False)"
   ]
  },
  {
   "cell_type": "markdown",
   "id": "7a8d57b9",
   "metadata": {},
   "source": [
    "### Feature Scaling"
   ]
  },
  {
   "cell_type": "code",
   "execution_count": 21,
   "id": "e485f189",
   "metadata": {},
   "outputs": [
    {
     "data": {
      "text/html": [
       "<div>\n",
       "<style scoped>\n",
       "    .dataframe tbody tr th:only-of-type {\n",
       "        vertical-align: middle;\n",
       "    }\n",
       "\n",
       "    .dataframe tbody tr th {\n",
       "        vertical-align: top;\n",
       "    }\n",
       "\n",
       "    .dataframe thead th {\n",
       "        text-align: right;\n",
       "    }\n",
       "</style>\n",
       "<table border=\"1\" class=\"dataframe\">\n",
       "  <thead>\n",
       "    <tr style=\"text-align: right;\">\n",
       "      <th></th>\n",
       "      <th>FEDFUNDS</th>\n",
       "      <th>YEAR</th>\n",
       "      <th>MONTH</th>\n",
       "      <th>DAY</th>\n",
       "    </tr>\n",
       "    <tr>\n",
       "      <th>DATE</th>\n",
       "      <th></th>\n",
       "      <th></th>\n",
       "      <th></th>\n",
       "      <th></th>\n",
       "    </tr>\n",
       "  </thead>\n",
       "  <tbody>\n",
       "    <tr>\n",
       "      <th>1954-07-01</th>\n",
       "      <td>-1.103537</td>\n",
       "      <td>-1.73168</td>\n",
       "      <td>0.144577</td>\n",
       "      <td>0.0</td>\n",
       "    </tr>\n",
       "    <tr>\n",
       "      <th>1954-08-01</th>\n",
       "      <td>-0.979340</td>\n",
       "      <td>-1.73168</td>\n",
       "      <td>0.434086</td>\n",
       "      <td>0.0</td>\n",
       "    </tr>\n",
       "    <tr>\n",
       "      <th>1954-09-01</th>\n",
       "      <td>-1.023696</td>\n",
       "      <td>-1.73168</td>\n",
       "      <td>0.723595</td>\n",
       "      <td>0.0</td>\n",
       "    </tr>\n",
       "    <tr>\n",
       "      <th>1954-10-01</th>\n",
       "      <td>-1.088752</td>\n",
       "      <td>-1.73168</td>\n",
       "      <td>1.013104</td>\n",
       "      <td>0.0</td>\n",
       "    </tr>\n",
       "    <tr>\n",
       "      <th>1954-11-01</th>\n",
       "      <td>-1.094666</td>\n",
       "      <td>-1.73168</td>\n",
       "      <td>1.302612</td>\n",
       "      <td>0.0</td>\n",
       "    </tr>\n",
       "  </tbody>\n",
       "</table>\n",
       "</div>"
      ],
      "text/plain": [
       "            FEDFUNDS     YEAR     MONTH  DAY\n",
       "DATE                                        \n",
       "1954-07-01 -1.103537 -1.73168  0.144577  0.0\n",
       "1954-08-01 -0.979340 -1.73168  0.434086  0.0\n",
       "1954-09-01 -1.023696 -1.73168  0.723595  0.0\n",
       "1954-10-01 -1.088752 -1.73168  1.013104  0.0\n",
       "1954-11-01 -1.094666 -1.73168  1.302612  0.0"
      ]
     },
     "execution_count": 21,
     "metadata": {},
     "output_type": "execute_result"
    }
   ],
   "source": [
    "#importing library for feature scaling\n",
    "from sklearn.preprocessing import StandardScaler\n",
    "\n",
    "col= fed_fund_data.columns\n",
    "sc=StandardScaler()\n",
    "fed_fund_data[col] = sc.fit_transform(fed_fund_data[col])\n",
    "fed_fund_data.head()"
   ]
  },
  {
   "cell_type": "code",
   "execution_count": null,
   "id": "8069db36",
   "metadata": {},
   "outputs": [],
   "source": []
  }
 ],
 "metadata": {
  "kernelspec": {
   "display_name": "Python 3 (ipykernel)",
   "language": "python",
   "name": "python3"
  },
  "language_info": {
   "codemirror_mode": {
    "name": "ipython",
    "version": 3
   },
   "file_extension": ".py",
   "mimetype": "text/x-python",
   "name": "python",
   "nbconvert_exporter": "python",
   "pygments_lexer": "ipython3",
   "version": "3.9.12"
  }
 },
 "nbformat": 4,
 "nbformat_minor": 5
}
