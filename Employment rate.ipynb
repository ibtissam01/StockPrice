{
 "cells": [
  {
   "cell_type": "markdown",
   "id": "37a7fa53",
   "metadata": {},
   "source": [
    "## Employment Rate_DP_LIVE"
   ]
  },
  {
   "cell_type": "markdown",
   "id": "0c1179f6",
   "metadata": {},
   "source": [
    "### Import Libraries"
   ]
  },
  {
   "cell_type": "code",
   "execution_count": 1,
   "id": "60ba1cfc",
   "metadata": {},
   "outputs": [],
   "source": [
    "import numpy as np\n",
    "import pandas as pd\n",
    "import matplotlib.pyplot as plt\n",
    "%matplotlib inline\n",
    "import seaborn as sns\n",
    "import warnings\n",
    "warnings.filterwarnings(\"ignore\")"
   ]
  },
  {
   "cell_type": "markdown",
   "id": "e8ad5852",
   "metadata": {},
   "source": [
    "### Import dataset"
   ]
  },
  {
   "cell_type": "code",
   "execution_count": 2,
   "id": "fb8e08d0",
   "metadata": {},
   "outputs": [],
   "source": [
    "df = pd.read_csv(\"Employment Rate_DP_LIVE_27062022082715896.csv\")"
   ]
  },
  {
   "cell_type": "markdown",
   "id": "d0615e4b",
   "metadata": {},
   "source": [
    "### Data Exploration"
   ]
  },
  {
   "cell_type": "code",
   "execution_count": 3,
   "id": "b7778254",
   "metadata": {},
   "outputs": [
    {
     "data": {
      "text/html": [
       "<div>\n",
       "<style scoped>\n",
       "    .dataframe tbody tr th:only-of-type {\n",
       "        vertical-align: middle;\n",
       "    }\n",
       "\n",
       "    .dataframe tbody tr th {\n",
       "        vertical-align: top;\n",
       "    }\n",
       "\n",
       "    .dataframe thead th {\n",
       "        text-align: right;\n",
       "    }\n",
       "</style>\n",
       "<table border=\"1\" class=\"dataframe\">\n",
       "  <thead>\n",
       "    <tr style=\"text-align: right;\">\n",
       "      <th></th>\n",
       "      <th>LOCATION</th>\n",
       "      <th>INDICATOR</th>\n",
       "      <th>SUBJECT</th>\n",
       "      <th>MEASURE</th>\n",
       "      <th>FREQUENCY</th>\n",
       "      <th>TIME</th>\n",
       "      <th>Value</th>\n",
       "      <th>Flag Codes</th>\n",
       "    </tr>\n",
       "  </thead>\n",
       "  <tbody>\n",
       "    <tr>\n",
       "      <th>0</th>\n",
       "      <td>AUS</td>\n",
       "      <td>EMP</td>\n",
       "      <td>MEN</td>\n",
       "      <td>THND_PER</td>\n",
       "      <td>A</td>\n",
       "      <td>1965</td>\n",
       "      <td>3346.5</td>\n",
       "      <td>NaN</td>\n",
       "    </tr>\n",
       "    <tr>\n",
       "      <th>1</th>\n",
       "      <td>AUS</td>\n",
       "      <td>EMP</td>\n",
       "      <td>MEN</td>\n",
       "      <td>THND_PER</td>\n",
       "      <td>A</td>\n",
       "      <td>1966</td>\n",
       "      <td>3362.5</td>\n",
       "      <td>NaN</td>\n",
       "    </tr>\n",
       "    <tr>\n",
       "      <th>2</th>\n",
       "      <td>AUS</td>\n",
       "      <td>EMP</td>\n",
       "      <td>MEN</td>\n",
       "      <td>THND_PER</td>\n",
       "      <td>A</td>\n",
       "      <td>1967</td>\n",
       "      <td>3412.5</td>\n",
       "      <td>NaN</td>\n",
       "    </tr>\n",
       "    <tr>\n",
       "      <th>3</th>\n",
       "      <td>AUS</td>\n",
       "      <td>EMP</td>\n",
       "      <td>MEN</td>\n",
       "      <td>THND_PER</td>\n",
       "      <td>A</td>\n",
       "      <td>1968</td>\n",
       "      <td>3474.0</td>\n",
       "      <td>NaN</td>\n",
       "    </tr>\n",
       "    <tr>\n",
       "      <th>4</th>\n",
       "      <td>AUS</td>\n",
       "      <td>EMP</td>\n",
       "      <td>MEN</td>\n",
       "      <td>THND_PER</td>\n",
       "      <td>A</td>\n",
       "      <td>1969</td>\n",
       "      <td>3548.0</td>\n",
       "      <td>NaN</td>\n",
       "    </tr>\n",
       "  </tbody>\n",
       "</table>\n",
       "</div>"
      ],
      "text/plain": [
       "  LOCATION INDICATOR SUBJECT   MEASURE FREQUENCY  TIME   Value Flag Codes\n",
       "0      AUS       EMP     MEN  THND_PER         A  1965  3346.5        NaN\n",
       "1      AUS       EMP     MEN  THND_PER         A  1966  3362.5        NaN\n",
       "2      AUS       EMP     MEN  THND_PER         A  1967  3412.5        NaN\n",
       "3      AUS       EMP     MEN  THND_PER         A  1968  3474.0        NaN\n",
       "4      AUS       EMP     MEN  THND_PER         A  1969  3548.0        NaN"
      ]
     },
     "execution_count": 3,
     "metadata": {},
     "output_type": "execute_result"
    }
   ],
   "source": [
    "df.head()"
   ]
  },
  {
   "cell_type": "code",
   "execution_count": 4,
   "id": "2bbfa113",
   "metadata": {},
   "outputs": [
    {
     "data": {
      "text/plain": [
       "(59168, 8)"
      ]
     },
     "execution_count": 4,
     "metadata": {},
     "output_type": "execute_result"
    }
   ],
   "source": [
    "# check shape of dataset\n",
    "df.shape"
   ]
  },
  {
   "cell_type": "markdown",
   "id": "d9a8c0ab",
   "metadata": {},
   "source": [
    "There are **59168 rows & 8 columns** in dataset."
   ]
  },
  {
   "cell_type": "code",
   "execution_count": 5,
   "id": "e7e1d2c0",
   "metadata": {},
   "outputs": [
    {
     "name": "stdout",
     "output_type": "stream",
     "text": [
      "<class 'pandas.core.frame.DataFrame'>\n",
      "RangeIndex: 59168 entries, 0 to 59167\n",
      "Data columns (total 8 columns):\n",
      " #   Column      Non-Null Count  Dtype  \n",
      "---  ------      --------------  -----  \n",
      " 0   LOCATION    59168 non-null  object \n",
      " 1   INDICATOR   59168 non-null  object \n",
      " 2   SUBJECT     59168 non-null  object \n",
      " 3   MEASURE     59168 non-null  object \n",
      " 4   FREQUENCY   59168 non-null  object \n",
      " 5   TIME        59168 non-null  object \n",
      " 6   Value       59168 non-null  float64\n",
      " 7   Flag Codes  1414 non-null   object \n",
      "dtypes: float64(1), object(7)\n",
      "memory usage: 3.6+ MB\n"
     ]
    }
   ],
   "source": [
    "# check basic info of dataset\n",
    "df.info()"
   ]
  },
  {
   "cell_type": "code",
   "execution_count": 6,
   "id": "862dffb8",
   "metadata": {},
   "outputs": [
    {
     "data": {
      "text/html": [
       "<div>\n",
       "<style scoped>\n",
       "    .dataframe tbody tr th:only-of-type {\n",
       "        vertical-align: middle;\n",
       "    }\n",
       "\n",
       "    .dataframe tbody tr th {\n",
       "        vertical-align: top;\n",
       "    }\n",
       "\n",
       "    .dataframe thead th {\n",
       "        text-align: right;\n",
       "    }\n",
       "</style>\n",
       "<table border=\"1\" class=\"dataframe\">\n",
       "  <thead>\n",
       "    <tr style=\"text-align: right;\">\n",
       "      <th></th>\n",
       "      <th>Value</th>\n",
       "    </tr>\n",
       "  </thead>\n",
       "  <tbody>\n",
       "    <tr>\n",
       "      <th>count</th>\n",
       "      <td>59168.000000</td>\n",
       "    </tr>\n",
       "    <tr>\n",
       "      <th>mean</th>\n",
       "      <td>14392.660219</td>\n",
       "    </tr>\n",
       "    <tr>\n",
       "      <th>std</th>\n",
       "      <td>38868.323456</td>\n",
       "    </tr>\n",
       "    <tr>\n",
       "      <th>min</th>\n",
       "      <td>0.000000</td>\n",
       "    </tr>\n",
       "    <tr>\n",
       "      <th>25%</th>\n",
       "      <td>70.600000</td>\n",
       "    </tr>\n",
       "    <tr>\n",
       "      <th>50%</th>\n",
       "      <td>1411.000000</td>\n",
       "    </tr>\n",
       "    <tr>\n",
       "      <th>75%</th>\n",
       "      <td>11226.467500</td>\n",
       "    </tr>\n",
       "    <tr>\n",
       "      <th>max</th>\n",
       "      <td>635247.100000</td>\n",
       "    </tr>\n",
       "  </tbody>\n",
       "</table>\n",
       "</div>"
      ],
      "text/plain": [
       "               Value\n",
       "count   59168.000000\n",
       "mean    14392.660219\n",
       "std     38868.323456\n",
       "min         0.000000\n",
       "25%        70.600000\n",
       "50%      1411.000000\n",
       "75%     11226.467500\n",
       "max    635247.100000"
      ]
     },
     "execution_count": 6,
     "metadata": {},
     "output_type": "execute_result"
    }
   ],
   "source": [
    "# check statisical summary of dataset\n",
    "df.describe()"
   ]
  },
  {
   "cell_type": "code",
   "execution_count": 7,
   "id": "f8e02811",
   "metadata": {},
   "outputs": [
    {
     "data": {
      "text/plain": [
       "LOCATION          0\n",
       "INDICATOR         0\n",
       "SUBJECT           0\n",
       "MEASURE           0\n",
       "FREQUENCY         0\n",
       "TIME              0\n",
       "Value             0\n",
       "Flag Codes    57754\n",
       "dtype: int64"
      ]
     },
     "execution_count": 7,
     "metadata": {},
     "output_type": "execute_result"
    }
   ],
   "source": [
    "# check is there missing values present in dataset or not\n",
    "df.isnull().sum()"
   ]
  },
  {
   "cell_type": "code",
   "execution_count": 8,
   "id": "9b9d4c53",
   "metadata": {
    "scrolled": true
   },
   "outputs": [
    {
     "data": {
      "text/plain": [
       "LOCATION         46\n",
       "INDICATOR         1\n",
       "SUBJECT           3\n",
       "MEASURE           2\n",
       "FREQUENCY         3\n",
       "TIME           1145\n",
       "Value         53626\n",
       "Flag Codes        2\n",
       "dtype: int64"
      ]
     },
     "execution_count": 8,
     "metadata": {},
     "output_type": "execute_result"
    }
   ],
   "source": [
    "df.nunique()"
   ]
  },
  {
   "cell_type": "markdown",
   "id": "b9de4adb",
   "metadata": {},
   "source": [
    "* here we can see lots of missing values present in Flag Codes so we have to drop it."
   ]
  },
  {
   "cell_type": "code",
   "execution_count": 9,
   "id": "afdd1b12",
   "metadata": {},
   "outputs": [],
   "source": [
    "df.drop(\"Flag Codes\", axis = 1, inplace = True)"
   ]
  },
  {
   "cell_type": "code",
   "execution_count": 10,
   "id": "d4618949",
   "metadata": {},
   "outputs": [],
   "source": [
    "df[\"TIME\"]= pd.to_datetime(df[\"TIME\"])"
   ]
  },
  {
   "cell_type": "code",
   "execution_count": 11,
   "id": "f53d9f25",
   "metadata": {},
   "outputs": [
    {
     "data": {
      "text/html": [
       "<div>\n",
       "<style scoped>\n",
       "    .dataframe tbody tr th:only-of-type {\n",
       "        vertical-align: middle;\n",
       "    }\n",
       "\n",
       "    .dataframe tbody tr th {\n",
       "        vertical-align: top;\n",
       "    }\n",
       "\n",
       "    .dataframe thead th {\n",
       "        text-align: right;\n",
       "    }\n",
       "</style>\n",
       "<table border=\"1\" class=\"dataframe\">\n",
       "  <thead>\n",
       "    <tr style=\"text-align: right;\">\n",
       "      <th></th>\n",
       "      <th>LOCATION</th>\n",
       "      <th>INDICATOR</th>\n",
       "      <th>SUBJECT</th>\n",
       "      <th>MEASURE</th>\n",
       "      <th>FREQUENCY</th>\n",
       "      <th>TIME</th>\n",
       "      <th>Value</th>\n",
       "      <th>Year</th>\n",
       "      <th>Quarter</th>\n",
       "    </tr>\n",
       "  </thead>\n",
       "  <tbody>\n",
       "    <tr>\n",
       "      <th>0</th>\n",
       "      <td>AUS</td>\n",
       "      <td>EMP</td>\n",
       "      <td>MEN</td>\n",
       "      <td>THND_PER</td>\n",
       "      <td>A</td>\n",
       "      <td>1965-01-01</td>\n",
       "      <td>3346.5</td>\n",
       "      <td>1965</td>\n",
       "      <td>1</td>\n",
       "    </tr>\n",
       "    <tr>\n",
       "      <th>1</th>\n",
       "      <td>AUS</td>\n",
       "      <td>EMP</td>\n",
       "      <td>MEN</td>\n",
       "      <td>THND_PER</td>\n",
       "      <td>A</td>\n",
       "      <td>1966-01-01</td>\n",
       "      <td>3362.5</td>\n",
       "      <td>1966</td>\n",
       "      <td>1</td>\n",
       "    </tr>\n",
       "    <tr>\n",
       "      <th>2</th>\n",
       "      <td>AUS</td>\n",
       "      <td>EMP</td>\n",
       "      <td>MEN</td>\n",
       "      <td>THND_PER</td>\n",
       "      <td>A</td>\n",
       "      <td>1967-01-01</td>\n",
       "      <td>3412.5</td>\n",
       "      <td>1967</td>\n",
       "      <td>1</td>\n",
       "    </tr>\n",
       "    <tr>\n",
       "      <th>3</th>\n",
       "      <td>AUS</td>\n",
       "      <td>EMP</td>\n",
       "      <td>MEN</td>\n",
       "      <td>THND_PER</td>\n",
       "      <td>A</td>\n",
       "      <td>1968-01-01</td>\n",
       "      <td>3474.0</td>\n",
       "      <td>1968</td>\n",
       "      <td>1</td>\n",
       "    </tr>\n",
       "    <tr>\n",
       "      <th>4</th>\n",
       "      <td>AUS</td>\n",
       "      <td>EMP</td>\n",
       "      <td>MEN</td>\n",
       "      <td>THND_PER</td>\n",
       "      <td>A</td>\n",
       "      <td>1969-01-01</td>\n",
       "      <td>3548.0</td>\n",
       "      <td>1969</td>\n",
       "      <td>1</td>\n",
       "    </tr>\n",
       "  </tbody>\n",
       "</table>\n",
       "</div>"
      ],
      "text/plain": [
       "  LOCATION INDICATOR SUBJECT   MEASURE FREQUENCY       TIME   Value  Year  \\\n",
       "0      AUS       EMP     MEN  THND_PER         A 1965-01-01  3346.5  1965   \n",
       "1      AUS       EMP     MEN  THND_PER         A 1966-01-01  3362.5  1966   \n",
       "2      AUS       EMP     MEN  THND_PER         A 1967-01-01  3412.5  1967   \n",
       "3      AUS       EMP     MEN  THND_PER         A 1968-01-01  3474.0  1968   \n",
       "4      AUS       EMP     MEN  THND_PER         A 1969-01-01  3548.0  1969   \n",
       "\n",
       "   Quarter  \n",
       "0        1  \n",
       "1        1  \n",
       "2        1  \n",
       "3        1  \n",
       "4        1  "
      ]
     },
     "execution_count": 11,
     "metadata": {},
     "output_type": "execute_result"
    }
   ],
   "source": [
    "df['Year'] = df['TIME'].dt.year\n",
    "df['Quarter'] = df['TIME'].dt.quarter\n",
    "#df.drop(\"TIME\", axis=1, inplace= True)\n",
    "df.head()"
   ]
  },
  {
   "cell_type": "markdown",
   "id": "380213be",
   "metadata": {},
   "source": [
    "### Exploratory Data Analysis"
   ]
  },
  {
   "cell_type": "markdown",
   "id": "6c4a2c1a",
   "metadata": {},
   "source": [
    "* **Location**"
   ]
  },
  {
   "cell_type": "code",
   "execution_count": 12,
   "id": "3fbb5b82",
   "metadata": {},
   "outputs": [
    {
     "data": {
      "image/png": "[encoded data removed]",
      "text/plain": [
       "<Figure size 1440x504 with 1 Axes>"
      ]
     },
     "metadata": {
      "needs_background": "light"
     },
     "output_type": "display_data"
    }
   ],
   "source": [
    "plt.figure(figsize=(20,7))\n",
    "sns.countplot(df.LOCATION, order = df['LOCATION'].value_counts().index)\n",
    "plt.xticks(rotation= 90, fontsize= 14)\n",
    "plt.show()"
   ]
  },
  {
   "cell_type": "code",
   "execution_count": 13,
   "id": "225ff35f",
   "metadata": {},
   "outputs": [
    {
     "data": {
      "text/plain": [
       "JPN    6105\n",
       "USA    5814\n",
       "CAN    5765\n",
       "AUS    4746\n",
       "KOR    3190\n",
       "CHL    2727\n",
       "COL    1560\n",
       "GBR    1517\n",
       "RUS    1400\n",
       "ISR    1188\n",
       "NZL    1179\n",
       "DEU    1155\n",
       "AUT    1140\n",
       "BEL    1000\n",
       "IRL     915\n",
       "Name: LOCATION, dtype: int64"
      ]
     },
     "execution_count": 13,
     "metadata": {},
     "output_type": "execute_result"
    }
   ],
   "source": [
    "df.LOCATION.value_counts()[:15]"
   ]
  },
  {
   "cell_type": "markdown",
   "id": "fdc4cbf3",
   "metadata": {},
   "source": [
    "* Here we can see the counts of Japan, USA & Canada is more as compare to other Locations."
   ]
  },
  {
   "cell_type": "markdown",
   "id": "892d660b",
   "metadata": {},
   "source": [
    "* **Subject**"
   ]
  },
  {
   "cell_type": "code",
   "execution_count": 14,
   "id": "a6a55b49",
   "metadata": {},
   "outputs": [
    {
     "data": {
      "image/png": "[encoded data removed]",
      "text/plain": [
       "<Figure size 432x288 with 1 Axes>"
      ]
     },
     "metadata": {
      "needs_background": "light"
     },
     "output_type": "display_data"
    },
    {
     "data": {
      "text/plain": [
       "TOT      20044\n",
       "WOMEN    19564\n",
       "MEN      19560\n",
       "Name: SUBJECT, dtype: int64"
      ]
     },
     "execution_count": 14,
     "metadata": {},
     "output_type": "execute_result"
    }
   ],
   "source": [
    "sns.countplot(df.SUBJECT)\n",
    "plt.show()\n",
    "\n",
    "df.SUBJECT.value_counts()"
   ]
  },
  {
   "cell_type": "markdown",
   "id": "1dd0de83",
   "metadata": {},
   "source": [
    "* Here we see Subject TOT is more than the MEN & WOMEN."
   ]
  },
  {
   "cell_type": "markdown",
   "id": "ad811601",
   "metadata": {},
   "source": [
    "* **Measure**"
   ]
  },
  {
   "cell_type": "code",
   "execution_count": 15,
   "id": "c9cdb90d",
   "metadata": {},
   "outputs": [
    {
     "data": {
      "image/png": "[encoded data removed]",
      "text/plain": [
       "<Figure size 432x288 with 1 Axes>"
      ]
     },
     "metadata": {
      "needs_background": "light"
     },
     "output_type": "display_data"
    },
    {
     "data": {
      "text/plain": [
       "THND_PER     34396\n",
       "PC_WKGPOP    24772\n",
       "Name: MEASURE, dtype: int64"
      ]
     },
     "execution_count": 15,
     "metadata": {},
     "output_type": "execute_result"
    }
   ],
   "source": [
    "sns.countplot(df.MEASURE)\n",
    "plt.show()\n",
    "\n",
    "df.MEASURE.value_counts()"
   ]
  },
  {
   "cell_type": "markdown",
   "id": "74dd0112",
   "metadata": {},
   "source": [
    "* Here we see two types of Measure **1. THND_PER 2. PC_WKGPOP**\n",
    "* Value counts of THND_PER is 34396 & PC_WKGPOP  is 24772."
   ]
  },
  {
   "cell_type": "markdown",
   "id": "4a732ba2",
   "metadata": {},
   "source": [
    "* **FREQUENCY**"
   ]
  },
  {
   "cell_type": "code",
   "execution_count": 16,
   "id": "89f0a3c0",
   "metadata": {},
   "outputs": [
    {
     "data": {
      "image/png": "[encoded data removed]",
      "text/plain": [
       "<Figure size 432x288 with 1 Axes>"
      ]
     },
     "metadata": {
      "needs_background": "light"
     },
     "output_type": "display_data"
    },
    {
     "data": {
      "text/plain": [
       "Q    27646\n",
       "M    22822\n",
       "A     8700\n",
       "Name: FREQUENCY, dtype: int64"
      ]
     },
     "execution_count": 16,
     "metadata": {},
     "output_type": "execute_result"
    }
   ],
   "source": [
    "sns.countplot(df.FREQUENCY)\n",
    "plt.show()\n",
    "\n",
    "df.FREQUENCY.value_counts()"
   ]
  },
  {
   "cell_type": "markdown",
   "id": "b9598f99",
   "metadata": {},
   "source": [
    "* Three types of FREQUENCY **1. A for Annual 2. Q for Quarter 3. M for Months.\n",
    "* Value counts of Q is higher than other frequencies."
   ]
  },
  {
   "cell_type": "markdown",
   "id": "f12f010e",
   "metadata": {},
   "source": [
    "* **Value**"
   ]
  },
  {
   "cell_type": "code",
   "execution_count": 17,
   "id": "c680a69d",
   "metadata": {},
   "outputs": [
    {
     "data": {
      "image/png": "[encoded data removed]",
      "text/plain": [
       "<Figure size 1080x360 with 2 Axes>"
      ]
     },
     "metadata": {
      "needs_background": "light"
     },
     "output_type": "display_data"
    }
   ],
   "source": [
    "plt.figure(figsize = (15,5))\n",
    "plt.subplot(1,2,1)\n",
    "sns.distplot(df[\"Value\"])\n",
    "\n",
    "plt.subplot(1,2,2)\n",
    "sns.boxplot(df[\"Value\"])\n",
    "\n",
    "plt.show()"
   ]
  },
  {
   "cell_type": "markdown",
   "id": "9b9958b2",
   "metadata": {},
   "source": [
    "* Here we can see some outliers present in the dataset `Value` feature. so we have to remove it."
   ]
  },
  {
   "cell_type": "markdown",
   "id": "34ff4613",
   "metadata": {},
   "source": [
    "* **Bivariate Analysis**"
   ]
  },
  {
   "cell_type": "markdown",
   "id": "b33e6738",
   "metadata": {},
   "source": [
    "* **Frequency vs Subject**"
   ]
  },
  {
   "cell_type": "code",
   "execution_count": 18,
   "id": "02770c2d",
   "metadata": {},
   "outputs": [
    {
     "data": {
      "image/png": "[encoded data removed]",
      "text/plain": [
       "<Figure size 432x288 with 1 Axes>"
      ]
     },
     "metadata": {
      "needs_background": "light"
     },
     "output_type": "display_data"
    }
   ],
   "source": [
    "sns.countplot(df.FREQUENCY, hue=df.SUBJECT)\n",
    "plt.show()\n"
   ]
  },
  {
   "cell_type": "markdown",
   "id": "63149241",
   "metadata": {},
   "source": [
    "* frequncy of Men and Women is near about same in annual, quarter & monthly basis."
   ]
  },
  {
   "cell_type": "code",
   "execution_count": 19,
   "id": "2bacab56",
   "metadata": {},
   "outputs": [
    {
     "data": {
      "image/png": "[encoded data removed]",
      "text/plain": [
       "<Figure size 432x288 with 1 Axes>"
      ]
     },
     "metadata": {
      "needs_background": "light"
     },
     "output_type": "display_data"
    }
   ],
   "source": [
    "sns.countplot(df.MEASURE, hue=df.SUBJECT)\n",
    "plt.show()\n"
   ]
  },
  {
   "cell_type": "code",
   "execution_count": 20,
   "id": "ab39b10d",
   "metadata": {},
   "outputs": [
    {
     "data": {
      "image/png": "[encoded data removed]",
      "text/plain": [
       "<Figure size 432x288 with 1 Axes>"
      ]
     },
     "metadata": {
      "needs_background": "light"
     },
     "output_type": "display_data"
    }
   ],
   "source": [
    "sns.lineplot(x=df.Year, y= df.Value)\n",
    "plt.show()"
   ]
  },
  {
   "cell_type": "markdown",
   "id": "bd109ca1",
   "metadata": {},
   "source": [
    "* **Find annual Employment rate with respect to subject**"
   ]
  },
  {
   "cell_type": "code",
   "execution_count": 21,
   "id": "17de0064",
   "metadata": {},
   "outputs": [],
   "source": [
    "def annual_emp_rate(country, measure, title):\n",
    "    x= df[(df[\"FREQUENCY\"]==\"A\") & (df[\"LOCATION\"]==country) & (df[\"MEASURE\"]==measure) & (df[\"SUBJECT\"]==\"MEN\")]\n",
    "    y=df[(df[\"FREQUENCY\"]==\"A\") & (df[\"LOCATION\"]==country) & (df[\"MEASURE\"]==measure) & (df[\"SUBJECT\"]==\"WOMEN\")]\n",
    "    z=df[(df[\"FREQUENCY\"]==\"A\") & (df[\"LOCATION\"]==country) & (df[\"MEASURE\"]==measure) & (df[\"SUBJECT\"]==\"TOT\")]\n",
    "    \n",
    "    plt.figure(figsize=(20,7))\n",
    "    sns.lineplot(x= \"Year\", y= \"Value\", data= x, label =\"MEN\")\n",
    "    sns.lineplot(x= \"Year\", y= \"Value\", data= y, label =\"WOMEN\")\n",
    "    sns.lineplot(x= \"Year\", y= \"Value\", data= z, label =\"TOT\")\n",
    "    plt.xticks(rotation=90)\n",
    "    plt.title(title)\n",
    "    plt.show()\n",
    "    "
   ]
  },
  {
   "cell_type": "code",
   "execution_count": 22,
   "id": "90561e62",
   "metadata": {
    "scrolled": false
   },
   "outputs": [
    {
     "data": {
      "image/png": "[encoded data removed]",
      "text/plain": [
       "<Figure size 1440x504 with 1 Axes>"
      ]
     },
     "metadata": {
      "needs_background": "light"
     },
     "output_type": "display_data"
    }
   ],
   "source": [
    "# study annual emp rate of USA\n",
    "annual_emp_rate(\"USA\", \"THND_PER\", \"Employment Rate Of USA\")"
   ]
  },
  {
   "cell_type": "markdown",
   "id": "fa674817",
   "metadata": {},
   "source": [
    "* Above graph shows employment rate is increased per year. "
   ]
  },
  {
   "cell_type": "code",
   "execution_count": null,
   "id": "9632bc87",
   "metadata": {},
   "outputs": [],
   "source": []
  }
 ],
 "metadata": {
  "kernelspec": {
   "display_name": "Python 3 (ipykernel)",
   "language": "python",
   "name": "python3"
  },
  "language_info": {
   "codemirror_mode": {
    "name": "ipython",
    "version": 3
   },
   "file_extension": ".py",
   "mimetype": "text/x-python",
   "name": "python",
   "nbconvert_exporter": "python",
   "pygments_lexer": "ipython3",
   "version": "3.9.12"
  }
 },
 "nbformat": 4,
 "nbformat_minor": 5
}
