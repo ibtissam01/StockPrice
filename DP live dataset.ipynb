{
 "cells": [
  {
   "cell_type": "markdown",
   "id": "14b5b94b",
   "metadata": {},
   "source": [
    "# DP_LIVE"
   ]
  },
  {
   "cell_type": "markdown",
   "id": "0c1179f6",
   "metadata": {},
   "source": [
    "### Import Libraries"
   ]
  },
  {
   "cell_type": "code",
   "execution_count": 1,
   "id": "60ba1cfc",
   "metadata": {},
   "outputs": [],
   "source": [
    "import numpy as np\n",
    "import pandas as pd\n",
    "import matplotlib.pyplot as plt\n",
    "%matplotlib inline\n",
    "import seaborn as sns\n",
    "import warnings\n",
    "warnings.filterwarnings(\"ignore\")"
   ]
  },
  {
   "cell_type": "markdown",
   "id": "e8ad5852",
   "metadata": {},
   "source": [
    "### Import dataset"
   ]
  },
  {
   "cell_type": "code",
   "execution_count": 27,
   "id": "fb8e08d0",
   "metadata": {},
   "outputs": [],
   "source": [
    "df = pd.read_csv(\"DP_LIVE_27062022082631724.csv\")"
   ]
  },
  {
   "cell_type": "markdown",
   "id": "d0615e4b",
   "metadata": {},
   "source": [
    "### Data Exploration"
   ]
  },
  {
   "cell_type": "code",
   "execution_count": 28,
   "id": "b7778254",
   "metadata": {},
   "outputs": [
    {
     "data": {
      "text/html": [
       "<div>\n",
       "<style scoped>\n",
       "    .dataframe tbody tr th:only-of-type {\n",
       "        vertical-align: middle;\n",
       "    }\n",
       "\n",
       "    .dataframe tbody tr th {\n",
       "        vertical-align: top;\n",
       "    }\n",
       "\n",
       "    .dataframe thead th {\n",
       "        text-align: right;\n",
       "    }\n",
       "</style>\n",
       "<table border=\"1\" class=\"dataframe\">\n",
       "  <thead>\n",
       "    <tr style=\"text-align: right;\">\n",
       "      <th></th>\n",
       "      <th>LOCATION</th>\n",
       "      <th>INDICATOR</th>\n",
       "      <th>SUBJECT</th>\n",
       "      <th>MEASURE</th>\n",
       "      <th>FREQUENCY</th>\n",
       "      <th>TIME</th>\n",
       "      <th>Value</th>\n",
       "      <th>Flag Codes</th>\n",
       "    </tr>\n",
       "  </thead>\n",
       "  <tbody>\n",
       "    <tr>\n",
       "      <th>0</th>\n",
       "      <td>AUT</td>\n",
       "      <td>PPI</td>\n",
       "      <td>DOMESTIC</td>\n",
       "      <td>AGRWTH</td>\n",
       "      <td>A</td>\n",
       "      <td>2000</td>\n",
       "      <td>3.405336</td>\n",
       "      <td>NaN</td>\n",
       "    </tr>\n",
       "    <tr>\n",
       "      <th>1</th>\n",
       "      <td>AUT</td>\n",
       "      <td>PPI</td>\n",
       "      <td>DOMESTIC</td>\n",
       "      <td>AGRWTH</td>\n",
       "      <td>A</td>\n",
       "      <td>2001</td>\n",
       "      <td>0.048577</td>\n",
       "      <td>NaN</td>\n",
       "    </tr>\n",
       "    <tr>\n",
       "      <th>2</th>\n",
       "      <td>AUT</td>\n",
       "      <td>PPI</td>\n",
       "      <td>DOMESTIC</td>\n",
       "      <td>AGRWTH</td>\n",
       "      <td>A</td>\n",
       "      <td>2002</td>\n",
       "      <td>-1.408040</td>\n",
       "      <td>NaN</td>\n",
       "    </tr>\n",
       "    <tr>\n",
       "      <th>3</th>\n",
       "      <td>AUT</td>\n",
       "      <td>PPI</td>\n",
       "      <td>DOMESTIC</td>\n",
       "      <td>AGRWTH</td>\n",
       "      <td>A</td>\n",
       "      <td>2003</td>\n",
       "      <td>0.285630</td>\n",
       "      <td>NaN</td>\n",
       "    </tr>\n",
       "    <tr>\n",
       "      <th>4</th>\n",
       "      <td>AUT</td>\n",
       "      <td>PPI</td>\n",
       "      <td>DOMESTIC</td>\n",
       "      <td>AGRWTH</td>\n",
       "      <td>A</td>\n",
       "      <td>2004</td>\n",
       "      <td>2.219603</td>\n",
       "      <td>NaN</td>\n",
       "    </tr>\n",
       "  </tbody>\n",
       "</table>\n",
       "</div>"
      ],
      "text/plain": [
       "  LOCATION INDICATOR   SUBJECT MEASURE FREQUENCY  TIME     Value  Flag Codes\n",
       "0      AUT       PPI  DOMESTIC  AGRWTH         A  2000  3.405336         NaN\n",
       "1      AUT       PPI  DOMESTIC  AGRWTH         A  2001  0.048577         NaN\n",
       "2      AUT       PPI  DOMESTIC  AGRWTH         A  2002 -1.408040         NaN\n",
       "3      AUT       PPI  DOMESTIC  AGRWTH         A  2003  0.285630         NaN\n",
       "4      AUT       PPI  DOMESTIC  AGRWTH         A  2004  2.219603         NaN"
      ]
     },
     "execution_count": 28,
     "metadata": {},
     "output_type": "execute_result"
    }
   ],
   "source": [
    "df.head()"
   ]
  },
  {
   "cell_type": "code",
   "execution_count": 4,
   "id": "2bbfa113",
   "metadata": {},
   "outputs": [
    {
     "data": {
      "text/plain": [
       "(85637, 8)"
      ]
     },
     "execution_count": 4,
     "metadata": {},
     "output_type": "execute_result"
    }
   ],
   "source": [
    "# check shape of dataset\n",
    "df.shape"
   ]
  },
  {
   "cell_type": "markdown",
   "id": "d9a8c0ab",
   "metadata": {},
   "source": [
    "There are **85637 rows & 8 columns** in dataset."
   ]
  },
  {
   "cell_type": "code",
   "execution_count": 5,
   "id": "e7e1d2c0",
   "metadata": {},
   "outputs": [
    {
     "name": "stdout",
     "output_type": "stream",
     "text": [
      "<class 'pandas.core.frame.DataFrame'>\n",
      "RangeIndex: 85637 entries, 0 to 85636\n",
      "Data columns (total 8 columns):\n",
      " #   Column      Non-Null Count  Dtype  \n",
      "---  ------      --------------  -----  \n",
      " 0   LOCATION    85637 non-null  object \n",
      " 1   INDICATOR   85637 non-null  object \n",
      " 2   SUBJECT     85637 non-null  object \n",
      " 3   MEASURE     85637 non-null  object \n",
      " 4   FREQUENCY   85637 non-null  object \n",
      " 5   TIME        85637 non-null  object \n",
      " 6   Value       85637 non-null  float64\n",
      " 7   Flag Codes  0 non-null      float64\n",
      "dtypes: float64(2), object(6)\n",
      "memory usage: 5.2+ MB\n"
     ]
    }
   ],
   "source": [
    "# check basic info of dataset\n",
    "df.info()"
   ]
  },
  {
   "cell_type": "code",
   "execution_count": 6,
   "id": "862dffb8",
   "metadata": {},
   "outputs": [
    {
     "data": {
      "text/html": [
       "<div>\n",
       "<style scoped>\n",
       "    .dataframe tbody tr th:only-of-type {\n",
       "        vertical-align: middle;\n",
       "    }\n",
       "\n",
       "    .dataframe tbody tr th {\n",
       "        vertical-align: top;\n",
       "    }\n",
       "\n",
       "    .dataframe thead th {\n",
       "        text-align: right;\n",
       "    }\n",
       "</style>\n",
       "<table border=\"1\" class=\"dataframe\">\n",
       "  <thead>\n",
       "    <tr style=\"text-align: right;\">\n",
       "      <th></th>\n",
       "      <th>Value</th>\n",
       "      <th>Flag Codes</th>\n",
       "    </tr>\n",
       "  </thead>\n",
       "  <tbody>\n",
       "    <tr>\n",
       "      <th>count</th>\n",
       "      <td>85637.000000</td>\n",
       "      <td>0.0</td>\n",
       "    </tr>\n",
       "    <tr>\n",
       "      <th>mean</th>\n",
       "      <td>42.006156</td>\n",
       "      <td>NaN</td>\n",
       "    </tr>\n",
       "    <tr>\n",
       "      <th>std</th>\n",
       "      <td>42.978411</td>\n",
       "      <td>NaN</td>\n",
       "    </tr>\n",
       "    <tr>\n",
       "      <th>min</th>\n",
       "      <td>-29.864640</td>\n",
       "      <td>NaN</td>\n",
       "    </tr>\n",
       "    <tr>\n",
       "      <th>25%</th>\n",
       "      <td>2.694230</td>\n",
       "      <td>NaN</td>\n",
       "    </tr>\n",
       "    <tr>\n",
       "      <th>50%</th>\n",
       "      <td>18.529350</td>\n",
       "      <td>NaN</td>\n",
       "    </tr>\n",
       "    <tr>\n",
       "      <th>75%</th>\n",
       "      <td>85.400000</td>\n",
       "      <td>NaN</td>\n",
       "    </tr>\n",
       "    <tr>\n",
       "      <th>max</th>\n",
       "      <td>600.817800</td>\n",
       "      <td>NaN</td>\n",
       "    </tr>\n",
       "  </tbody>\n",
       "</table>\n",
       "</div>"
      ],
      "text/plain": [
       "              Value  Flag Codes\n",
       "count  85637.000000         0.0\n",
       "mean      42.006156         NaN\n",
       "std       42.978411         NaN\n",
       "min      -29.864640         NaN\n",
       "25%        2.694230         NaN\n",
       "50%       18.529350         NaN\n",
       "75%       85.400000         NaN\n",
       "max      600.817800         NaN"
      ]
     },
     "execution_count": 6,
     "metadata": {},
     "output_type": "execute_result"
    }
   ],
   "source": [
    "# check statisical summary of dataset\n",
    "df.describe()"
   ]
  },
  {
   "cell_type": "code",
   "execution_count": 7,
   "id": "f8e02811",
   "metadata": {},
   "outputs": [
    {
     "data": {
      "text/plain": [
       "LOCATION          0\n",
       "INDICATOR         0\n",
       "SUBJECT           0\n",
       "MEASURE           0\n",
       "FREQUENCY         0\n",
       "TIME              0\n",
       "Value             0\n",
       "Flag Codes    85637\n",
       "dtype: int64"
      ]
     },
     "execution_count": 7,
     "metadata": {},
     "output_type": "execute_result"
    }
   ],
   "source": [
    "# check is there missing values present in dataset or not\n",
    "df.isnull().sum()"
   ]
  },
  {
   "cell_type": "code",
   "execution_count": 8,
   "id": "936cfc28",
   "metadata": {},
   "outputs": [
    {
     "data": {
      "text/plain": [
       "LOCATION         45\n",
       "INDICATOR         1\n",
       "SUBJECT           2\n",
       "MEASURE           2\n",
       "FREQUENCY         3\n",
       "TIME           1281\n",
       "Value         61915\n",
       "Flag Codes        0\n",
       "dtype: int64"
      ]
     },
     "execution_count": 8,
     "metadata": {},
     "output_type": "execute_result"
    }
   ],
   "source": [
    "#check unique values\n",
    "df.nunique()"
   ]
  },
  {
   "cell_type": "markdown",
   "id": "dc6b7310",
   "metadata": {},
   "source": [
    "* Here we can see no Flag Codes given to we have to drop this feature."
   ]
  },
  {
   "cell_type": "code",
   "execution_count": 9,
   "id": "b17b7eb5",
   "metadata": {},
   "outputs": [],
   "source": [
    "df.drop(\"Flag Codes\", axis = 1, inplace= True)"
   ]
  },
  {
   "cell_type": "code",
   "execution_count": 10,
   "id": "9e5110f4",
   "metadata": {},
   "outputs": [],
   "source": [
    "df[\"TIME\"]= pd.to_datetime(df[\"TIME\"])"
   ]
  },
  {
   "cell_type": "code",
   "execution_count": 11,
   "id": "48aa1682",
   "metadata": {},
   "outputs": [
    {
     "data": {
      "text/html": [
       "<div>\n",
       "<style scoped>\n",
       "    .dataframe tbody tr th:only-of-type {\n",
       "        vertical-align: middle;\n",
       "    }\n",
       "\n",
       "    .dataframe tbody tr th {\n",
       "        vertical-align: top;\n",
       "    }\n",
       "\n",
       "    .dataframe thead th {\n",
       "        text-align: right;\n",
       "    }\n",
       "</style>\n",
       "<table border=\"1\" class=\"dataframe\">\n",
       "  <thead>\n",
       "    <tr style=\"text-align: right;\">\n",
       "      <th></th>\n",
       "      <th>LOCATION</th>\n",
       "      <th>INDICATOR</th>\n",
       "      <th>SUBJECT</th>\n",
       "      <th>MEASURE</th>\n",
       "      <th>FREQUENCY</th>\n",
       "      <th>Value</th>\n",
       "      <th>Year</th>\n",
       "      <th>Quarter</th>\n",
       "    </tr>\n",
       "  </thead>\n",
       "  <tbody>\n",
       "    <tr>\n",
       "      <th>0</th>\n",
       "      <td>AUT</td>\n",
       "      <td>PPI</td>\n",
       "      <td>DOMESTIC</td>\n",
       "      <td>AGRWTH</td>\n",
       "      <td>A</td>\n",
       "      <td>3.405336</td>\n",
       "      <td>2000</td>\n",
       "      <td>1</td>\n",
       "    </tr>\n",
       "    <tr>\n",
       "      <th>1</th>\n",
       "      <td>AUT</td>\n",
       "      <td>PPI</td>\n",
       "      <td>DOMESTIC</td>\n",
       "      <td>AGRWTH</td>\n",
       "      <td>A</td>\n",
       "      <td>0.048577</td>\n",
       "      <td>2001</td>\n",
       "      <td>1</td>\n",
       "    </tr>\n",
       "    <tr>\n",
       "      <th>2</th>\n",
       "      <td>AUT</td>\n",
       "      <td>PPI</td>\n",
       "      <td>DOMESTIC</td>\n",
       "      <td>AGRWTH</td>\n",
       "      <td>A</td>\n",
       "      <td>-1.408040</td>\n",
       "      <td>2002</td>\n",
       "      <td>1</td>\n",
       "    </tr>\n",
       "    <tr>\n",
       "      <th>3</th>\n",
       "      <td>AUT</td>\n",
       "      <td>PPI</td>\n",
       "      <td>DOMESTIC</td>\n",
       "      <td>AGRWTH</td>\n",
       "      <td>A</td>\n",
       "      <td>0.285630</td>\n",
       "      <td>2003</td>\n",
       "      <td>1</td>\n",
       "    </tr>\n",
       "    <tr>\n",
       "      <th>4</th>\n",
       "      <td>AUT</td>\n",
       "      <td>PPI</td>\n",
       "      <td>DOMESTIC</td>\n",
       "      <td>AGRWTH</td>\n",
       "      <td>A</td>\n",
       "      <td>2.219603</td>\n",
       "      <td>2004</td>\n",
       "      <td>1</td>\n",
       "    </tr>\n",
       "  </tbody>\n",
       "</table>\n",
       "</div>"
      ],
      "text/plain": [
       "  LOCATION INDICATOR   SUBJECT MEASURE FREQUENCY     Value  Year  Quarter\n",
       "0      AUT       PPI  DOMESTIC  AGRWTH         A  3.405336  2000        1\n",
       "1      AUT       PPI  DOMESTIC  AGRWTH         A  0.048577  2001        1\n",
       "2      AUT       PPI  DOMESTIC  AGRWTH         A -1.408040  2002        1\n",
       "3      AUT       PPI  DOMESTIC  AGRWTH         A  0.285630  2003        1\n",
       "4      AUT       PPI  DOMESTIC  AGRWTH         A  2.219603  2004        1"
      ]
     },
     "execution_count": 11,
     "metadata": {},
     "output_type": "execute_result"
    }
   ],
   "source": [
    "df['Year'] = df['TIME'].dt.year\n",
    "df['Quarter'] = df['TIME'].dt.quarter\n",
    "df.drop(\"TIME\", axis=1, inplace= True)\n",
    "df.head()"
   ]
  },
  {
   "cell_type": "code",
   "execution_count": 12,
   "id": "3feef7c0",
   "metadata": {},
   "outputs": [
    {
     "data": {
      "text/html": [
       "<div>\n",
       "<style scoped>\n",
       "    .dataframe tbody tr th:only-of-type {\n",
       "        vertical-align: middle;\n",
       "    }\n",
       "\n",
       "    .dataframe tbody tr th {\n",
       "        vertical-align: top;\n",
       "    }\n",
       "\n",
       "    .dataframe thead th {\n",
       "        text-align: right;\n",
       "    }\n",
       "</style>\n",
       "<table border=\"1\" class=\"dataframe\">\n",
       "  <thead>\n",
       "    <tr style=\"text-align: right;\">\n",
       "      <th></th>\n",
       "      <th>LOCATION</th>\n",
       "      <th>INDICATOR</th>\n",
       "      <th>SUBJECT</th>\n",
       "      <th>MEASURE</th>\n",
       "      <th>FREQUENCY</th>\n",
       "      <th>Value</th>\n",
       "      <th>Year</th>\n",
       "      <th>Quarter</th>\n",
       "    </tr>\n",
       "  </thead>\n",
       "  <tbody>\n",
       "    <tr>\n",
       "      <th>0</th>\n",
       "      <td>AUT</td>\n",
       "      <td>PPI</td>\n",
       "      <td>DOMESTIC</td>\n",
       "      <td>AGRWTH</td>\n",
       "      <td>A</td>\n",
       "      <td>3.405336</td>\n",
       "      <td>2000</td>\n",
       "      <td>1</td>\n",
       "    </tr>\n",
       "    <tr>\n",
       "      <th>1</th>\n",
       "      <td>AUT</td>\n",
       "      <td>PPI</td>\n",
       "      <td>DOMESTIC</td>\n",
       "      <td>AGRWTH</td>\n",
       "      <td>A</td>\n",
       "      <td>0.048577</td>\n",
       "      <td>2001</td>\n",
       "      <td>1</td>\n",
       "    </tr>\n",
       "    <tr>\n",
       "      <th>2</th>\n",
       "      <td>AUT</td>\n",
       "      <td>PPI</td>\n",
       "      <td>DOMESTIC</td>\n",
       "      <td>AGRWTH</td>\n",
       "      <td>A</td>\n",
       "      <td>-1.408040</td>\n",
       "      <td>2002</td>\n",
       "      <td>1</td>\n",
       "    </tr>\n",
       "    <tr>\n",
       "      <th>3</th>\n",
       "      <td>AUT</td>\n",
       "      <td>PPI</td>\n",
       "      <td>DOMESTIC</td>\n",
       "      <td>AGRWTH</td>\n",
       "      <td>A</td>\n",
       "      <td>0.285630</td>\n",
       "      <td>2003</td>\n",
       "      <td>1</td>\n",
       "    </tr>\n",
       "    <tr>\n",
       "      <th>4</th>\n",
       "      <td>AUT</td>\n",
       "      <td>PPI</td>\n",
       "      <td>DOMESTIC</td>\n",
       "      <td>AGRWTH</td>\n",
       "      <td>A</td>\n",
       "      <td>2.219603</td>\n",
       "      <td>2004</td>\n",
       "      <td>1</td>\n",
       "    </tr>\n",
       "  </tbody>\n",
       "</table>\n",
       "</div>"
      ],
      "text/plain": [
       "  LOCATION INDICATOR   SUBJECT MEASURE FREQUENCY     Value  Year  Quarter\n",
       "0      AUT       PPI  DOMESTIC  AGRWTH         A  3.405336  2000        1\n",
       "1      AUT       PPI  DOMESTIC  AGRWTH         A  0.048577  2001        1\n",
       "2      AUT       PPI  DOMESTIC  AGRWTH         A -1.408040  2002        1\n",
       "3      AUT       PPI  DOMESTIC  AGRWTH         A  0.285630  2003        1\n",
       "4      AUT       PPI  DOMESTIC  AGRWTH         A  2.219603  2004        1"
      ]
     },
     "execution_count": 12,
     "metadata": {},
     "output_type": "execute_result"
    }
   ],
   "source": [
    "df.head()"
   ]
  },
  {
   "cell_type": "markdown",
   "id": "61f97a41",
   "metadata": {},
   "source": [
    "### Exploratory data analysis"
   ]
  },
  {
   "cell_type": "markdown",
   "id": "c2e886a2",
   "metadata": {},
   "source": [
    "* **Data Visualization**"
   ]
  },
  {
   "cell_type": "markdown",
   "id": "45182c47",
   "metadata": {},
   "source": [
    "* **Location**"
   ]
  },
  {
   "cell_type": "code",
   "execution_count": 13,
   "id": "8561275e",
   "metadata": {},
   "outputs": [
    {
     "data": {
      "image/png": "[encoded data removed]",
      "text/plain": [
       "<Figure size 1440x504 with 1 Axes>"
      ]
     },
     "metadata": {
      "needs_background": "light"
     },
     "output_type": "display_data"
    }
   ],
   "source": [
    "plt.figure(figsize=(20,7))\n",
    "sns.countplot(df.LOCATION, order = df['LOCATION'].value_counts().index)\n",
    "plt.xticks(rotation= 90, fontsize= 14)\n",
    "plt.show()"
   ]
  },
  {
   "cell_type": "code",
   "execution_count": 14,
   "id": "437e3097",
   "metadata": {},
   "outputs": [
    {
     "data": {
      "text/plain": [
       "IRL    3658\n",
       "DEU    3182\n",
       "NOR    3050\n",
       "FRA    3012\n",
       "GRC    2927\n",
       "DNK    2880\n",
       "LUX    2842\n",
       "NLD    2808\n",
       "PRT    2710\n",
       "GBR    2644\n",
       "USA    2545\n",
       "FIN    2502\n",
       "ESP    2332\n",
       "CAN    2239\n",
       "BEL    2128\n",
       "Name: LOCATION, dtype: int64"
      ]
     },
     "execution_count": 14,
     "metadata": {},
     "output_type": "execute_result"
    }
   ],
   "source": [
    "df.LOCATION.value_counts()[:15]"
   ]
  },
  {
   "cell_type": "markdown",
   "id": "e48c72f9",
   "metadata": {},
   "source": [
    "* Here we can see top 10 Location **IRL** is in top position."
   ]
  },
  {
   "cell_type": "markdown",
   "id": "dcaa42bf",
   "metadata": {},
   "source": [
    "* **Subject**"
   ]
  },
  {
   "cell_type": "code",
   "execution_count": 15,
   "id": "c7630067",
   "metadata": {},
   "outputs": [
    {
     "data": {
      "image/png": "[encoded data removed]",
      "text/plain": [
       "<Figure size 432x288 with 1 Axes>"
      ]
     },
     "metadata": {
      "needs_background": "light"
     },
     "output_type": "display_data"
    },
    {
     "data": {
      "text/plain": [
       "DOMESTIC    52621\n",
       "TOT_MKT     33016\n",
       "Name: SUBJECT, dtype: int64"
      ]
     },
     "execution_count": 15,
     "metadata": {},
     "output_type": "execute_result"
    }
   ],
   "source": [
    "sns.countplot(df.SUBJECT)\n",
    "plt.show()\n",
    "\n",
    "df.SUBJECT.value_counts()"
   ]
  },
  {
   "cell_type": "markdown",
   "id": "3980aefc",
   "metadata": {},
   "source": [
    "* Here we see Subject **52621 Domestic** & **33016 TOT_MKT**."
   ]
  },
  {
   "cell_type": "markdown",
   "id": "b3021b57",
   "metadata": {},
   "source": [
    "* **Measure**"
   ]
  },
  {
   "cell_type": "code",
   "execution_count": 16,
   "id": "259d11f4",
   "metadata": {},
   "outputs": [
    {
     "data": {
      "image/png": "[encoded data removed]",
      "text/plain": [
       "<Figure size 432x288 with 1 Axes>"
      ]
     },
     "metadata": {
      "needs_background": "light"
     },
     "output_type": "display_data"
    },
    {
     "data": {
      "text/plain": [
       "IDX2015    44276\n",
       "AGRWTH     41361\n",
       "Name: MEASURE, dtype: int64"
      ]
     },
     "execution_count": 16,
     "metadata": {},
     "output_type": "execute_result"
    }
   ],
   "source": [
    "sns.countplot(df.MEASURE)\n",
    "plt.show()\n",
    "\n",
    "df.MEASURE.value_counts()"
   ]
  },
  {
   "cell_type": "markdown",
   "id": "58d8e01c",
   "metadata": {},
   "source": [
    "* Here we see two types of Measure **1. IDX2015 2. AGRWTH**\n",
    "* Value counts of IDX2015 is 44276 & AGRWTH  is 41361."
   ]
  },
  {
   "cell_type": "markdown",
   "id": "49695dde",
   "metadata": {},
   "source": [
    "* **FREQUENCY**"
   ]
  },
  {
   "cell_type": "code",
   "execution_count": 17,
   "id": "5d3188a8",
   "metadata": {},
   "outputs": [
    {
     "data": {
      "image/png": "[encoded data removed]",
      "text/plain": [
       "<Figure size 432x288 with 1 Axes>"
      ]
     },
     "metadata": {
      "needs_background": "light"
     },
     "output_type": "display_data"
    },
    {
     "data": {
      "text/plain": [
       "M    59528\n",
       "Q    20919\n",
       "A     5190\n",
       "Name: FREQUENCY, dtype: int64"
      ]
     },
     "execution_count": 17,
     "metadata": {},
     "output_type": "execute_result"
    }
   ],
   "source": [
    "sns.countplot(df.FREQUENCY)\n",
    "plt.show()\n",
    "\n",
    "df.FREQUENCY.value_counts()"
   ]
  },
  {
   "cell_type": "markdown",
   "id": "085ddc19",
   "metadata": {},
   "source": [
    "* Three types of FREQUENCY **1. A for Annual 2. Q for Quarter 3. M for Months.\n",
    "* Value counts of M is higher than other frequencies."
   ]
  },
  {
   "cell_type": "code",
   "execution_count": 18,
   "id": "a7177716",
   "metadata": {},
   "outputs": [
    {
     "data": {
      "image/png": "[encoded data removed]",
      "text/plain": [
       "<Figure size 432x288 with 1 Axes>"
      ]
     },
     "metadata": {
      "needs_background": "light"
     },
     "output_type": "display_data"
    }
   ],
   "source": [
    "sns.lineplot(x= df.Year, y=df.Value)\n",
    "plt.show()"
   ]
  },
  {
   "cell_type": "markdown",
   "id": "1bb1825a",
   "metadata": {},
   "source": [
    "* **Value**"
   ]
  },
  {
   "cell_type": "code",
   "execution_count": 19,
   "id": "48a0ef2f",
   "metadata": {},
   "outputs": [
    {
     "data": {
      "image/png": "[encoded data removed]",
      "text/plain": [
       "<Figure size 1080x360 with 2 Axes>"
      ]
     },
     "metadata": {
      "needs_background": "light"
     },
     "output_type": "display_data"
    }
   ],
   "source": [
    "plt.figure(figsize = (15,5))\n",
    "plt.subplot(1,2,1)\n",
    "sns.distplot(df[\"Value\"])\n",
    "\n",
    "plt.subplot(1,2,2)\n",
    "sns.boxplot(df[\"Value\"])\n",
    "\n",
    "plt.show()"
   ]
  },
  {
   "cell_type": "markdown",
   "id": "d712630e",
   "metadata": {},
   "source": [
    "* Here we can see some outliers present in the dataset `Value` feature. so we have to remove it."
   ]
  },
  {
   "cell_type": "markdown",
   "id": "44f3d2d3",
   "metadata": {},
   "source": [
    "### Feature Engineering"
   ]
  },
  {
   "cell_type": "markdown",
   "id": "d7237487",
   "metadata": {},
   "source": [
    "#### Handling Outliers"
   ]
  },
  {
   "cell_type": "code",
   "execution_count": 20,
   "id": "64e18b4b",
   "metadata": {},
   "outputs": [],
   "source": [
    "q1 =df[\"Value\"].quantile(0.25)\n",
    "q3 = df[\"Value\"].quantile(0.75)\n",
    "IQR = q3-q1\n",
    "lower_limit = q1 - (IQR*1.5)\n",
    "upper_limit = q3 + (IQR*1.5)\n",
    "df.loc[df[\"Value\"]<lower_limit,'Value'] = lower_limit\n",
    "df.loc[df[\"Value\"]>upper_limit,'Value'] = upper_limit"
   ]
  },
  {
   "cell_type": "code",
   "execution_count": 21,
   "id": "27f1ae89",
   "metadata": {},
   "outputs": [
    {
     "data": {
      "image/png": "[encoded data removed]",
      "text/plain": [
       "<Figure size 432x288 with 1 Axes>"
      ]
     },
     "metadata": {
      "needs_background": "light"
     },
     "output_type": "display_data"
    }
   ],
   "source": [
    "sns.boxplot(df[\"Value\"])\n",
    "plt.show()"
   ]
  },
  {
   "cell_type": "code",
   "execution_count": 29,
   "id": "3f46aeb8",
   "metadata": {},
   "outputs": [
    {
     "data": {
      "text/html": [
       "<div>\n",
       "<style scoped>\n",
       "    .dataframe tbody tr th:only-of-type {\n",
       "        vertical-align: middle;\n",
       "    }\n",
       "\n",
       "    .dataframe tbody tr th {\n",
       "        vertical-align: top;\n",
       "    }\n",
       "\n",
       "    .dataframe thead th {\n",
       "        text-align: right;\n",
       "    }\n",
       "</style>\n",
       "<table border=\"1\" class=\"dataframe\">\n",
       "  <thead>\n",
       "    <tr style=\"text-align: right;\">\n",
       "      <th></th>\n",
       "      <th>LOCATION</th>\n",
       "      <th>INDICATOR</th>\n",
       "      <th>SUBJECT</th>\n",
       "      <th>MEASURE</th>\n",
       "      <th>FREQUENCY</th>\n",
       "      <th>TIME</th>\n",
       "      <th>Value</th>\n",
       "      <th>Flag Codes</th>\n",
       "    </tr>\n",
       "  </thead>\n",
       "  <tbody>\n",
       "    <tr>\n",
       "      <th>0</th>\n",
       "      <td>AUT</td>\n",
       "      <td>PPI</td>\n",
       "      <td>DOMESTIC</td>\n",
       "      <td>AGRWTH</td>\n",
       "      <td>A</td>\n",
       "      <td>2000</td>\n",
       "      <td>3.405336</td>\n",
       "      <td>NaN</td>\n",
       "    </tr>\n",
       "    <tr>\n",
       "      <th>1</th>\n",
       "      <td>AUT</td>\n",
       "      <td>PPI</td>\n",
       "      <td>DOMESTIC</td>\n",
       "      <td>AGRWTH</td>\n",
       "      <td>A</td>\n",
       "      <td>2001</td>\n",
       "      <td>0.048577</td>\n",
       "      <td>NaN</td>\n",
       "    </tr>\n",
       "    <tr>\n",
       "      <th>2</th>\n",
       "      <td>AUT</td>\n",
       "      <td>PPI</td>\n",
       "      <td>DOMESTIC</td>\n",
       "      <td>AGRWTH</td>\n",
       "      <td>A</td>\n",
       "      <td>2002</td>\n",
       "      <td>-1.408040</td>\n",
       "      <td>NaN</td>\n",
       "    </tr>\n",
       "    <tr>\n",
       "      <th>3</th>\n",
       "      <td>AUT</td>\n",
       "      <td>PPI</td>\n",
       "      <td>DOMESTIC</td>\n",
       "      <td>AGRWTH</td>\n",
       "      <td>A</td>\n",
       "      <td>2003</td>\n",
       "      <td>0.285630</td>\n",
       "      <td>NaN</td>\n",
       "    </tr>\n",
       "    <tr>\n",
       "      <th>4</th>\n",
       "      <td>AUT</td>\n",
       "      <td>PPI</td>\n",
       "      <td>DOMESTIC</td>\n",
       "      <td>AGRWTH</td>\n",
       "      <td>A</td>\n",
       "      <td>2004</td>\n",
       "      <td>2.219603</td>\n",
       "      <td>NaN</td>\n",
       "    </tr>\n",
       "  </tbody>\n",
       "</table>\n",
       "</div>"
      ],
      "text/plain": [
       "  LOCATION INDICATOR   SUBJECT MEASURE FREQUENCY  TIME     Value  Flag Codes\n",
       "0      AUT       PPI  DOMESTIC  AGRWTH         A  2000  3.405336         NaN\n",
       "1      AUT       PPI  DOMESTIC  AGRWTH         A  2001  0.048577         NaN\n",
       "2      AUT       PPI  DOMESTIC  AGRWTH         A  2002 -1.408040         NaN\n",
       "3      AUT       PPI  DOMESTIC  AGRWTH         A  2003  0.285630         NaN\n",
       "4      AUT       PPI  DOMESTIC  AGRWTH         A  2004  2.219603         NaN"
      ]
     },
     "execution_count": 29,
     "metadata": {},
     "output_type": "execute_result"
    }
   ],
   "source": [
    "df.head()"
   ]
  },
  {
   "cell_type": "code",
   "execution_count": 30,
   "id": "f40f8ac7",
   "metadata": {},
   "outputs": [
    {
     "data": {
      "text/html": [
       "<div>\n",
       "<style scoped>\n",
       "    .dataframe tbody tr th:only-of-type {\n",
       "        vertical-align: middle;\n",
       "    }\n",
       "\n",
       "    .dataframe tbody tr th {\n",
       "        vertical-align: top;\n",
       "    }\n",
       "\n",
       "    .dataframe thead th {\n",
       "        text-align: right;\n",
       "    }\n",
       "</style>\n",
       "<table border=\"1\" class=\"dataframe\">\n",
       "  <thead>\n",
       "    <tr style=\"text-align: right;\">\n",
       "      <th></th>\n",
       "      <th>LOCATION</th>\n",
       "      <th>INDICATOR</th>\n",
       "      <th>SUBJECT</th>\n",
       "      <th>MEASURE</th>\n",
       "      <th>FREQUENCY</th>\n",
       "      <th>TIME</th>\n",
       "      <th>Value</th>\n",
       "      <th>Flag Codes</th>\n",
       "    </tr>\n",
       "  </thead>\n",
       "  <tbody>\n",
       "    <tr>\n",
       "      <th>28937</th>\n",
       "      <td>USA</td>\n",
       "      <td>PPI</td>\n",
       "      <td>TOT_MKT</td>\n",
       "      <td>AGRWTH</td>\n",
       "      <td>Q</td>\n",
       "      <td>1948-Q1</td>\n",
       "      <td>8.487689</td>\n",
       "      <td>NaN</td>\n",
       "    </tr>\n",
       "    <tr>\n",
       "      <th>28938</th>\n",
       "      <td>USA</td>\n",
       "      <td>PPI</td>\n",
       "      <td>TOT_MKT</td>\n",
       "      <td>AGRWTH</td>\n",
       "      <td>Q</td>\n",
       "      <td>1948-Q2</td>\n",
       "      <td>8.751609</td>\n",
       "      <td>NaN</td>\n",
       "    </tr>\n",
       "    <tr>\n",
       "      <th>28939</th>\n",
       "      <td>USA</td>\n",
       "      <td>PPI</td>\n",
       "      <td>TOT_MKT</td>\n",
       "      <td>AGRWTH</td>\n",
       "      <td>Q</td>\n",
       "      <td>1948-Q3</td>\n",
       "      <td>9.193954</td>\n",
       "      <td>NaN</td>\n",
       "    </tr>\n",
       "    <tr>\n",
       "      <th>28940</th>\n",
       "      <td>USA</td>\n",
       "      <td>PPI</td>\n",
       "      <td>TOT_MKT</td>\n",
       "      <td>AGRWTH</td>\n",
       "      <td>Q</td>\n",
       "      <td>1948-Q4</td>\n",
       "      <td>5.000002</td>\n",
       "      <td>NaN</td>\n",
       "    </tr>\n",
       "    <tr>\n",
       "      <th>28941</th>\n",
       "      <td>USA</td>\n",
       "      <td>PPI</td>\n",
       "      <td>TOT_MKT</td>\n",
       "      <td>AGRWTH</td>\n",
       "      <td>Q</td>\n",
       "      <td>1949-Q1</td>\n",
       "      <td>0.357569</td>\n",
       "      <td>NaN</td>\n",
       "    </tr>\n",
       "  </tbody>\n",
       "</table>\n",
       "</div>"
      ],
      "text/plain": [
       "      LOCATION INDICATOR  SUBJECT MEASURE FREQUENCY     TIME     Value  \\\n",
       "28937      USA       PPI  TOT_MKT  AGRWTH         Q  1948-Q1  8.487689   \n",
       "28938      USA       PPI  TOT_MKT  AGRWTH         Q  1948-Q2  8.751609   \n",
       "28939      USA       PPI  TOT_MKT  AGRWTH         Q  1948-Q3  9.193954   \n",
       "28940      USA       PPI  TOT_MKT  AGRWTH         Q  1948-Q4  5.000002   \n",
       "28941      USA       PPI  TOT_MKT  AGRWTH         Q  1949-Q1  0.357569   \n",
       "\n",
       "       Flag Codes  \n",
       "28937         NaN  \n",
       "28938         NaN  \n",
       "28939         NaN  \n",
       "28940         NaN  \n",
       "28941         NaN  "
      ]
     },
     "execution_count": 30,
     "metadata": {},
     "output_type": "execute_result"
    }
   ],
   "source": [
    "#usa_gdp_quarterly\n",
    "usaData_q=df[(df['LOCATION']=='USA') & (df['FREQUENCY']=='Q')]\n",
    "usaData_q.head()"
   ]
  },
  {
   "cell_type": "code",
   "execution_count": 31,
   "id": "02470319",
   "metadata": {},
   "outputs": [
    {
     "data": {
      "text/html": [
       "<div>\n",
       "<style scoped>\n",
       "    .dataframe tbody tr th:only-of-type {\n",
       "        vertical-align: middle;\n",
       "    }\n",
       "\n",
       "    .dataframe tbody tr th {\n",
       "        vertical-align: top;\n",
       "    }\n",
       "\n",
       "    .dataframe thead th {\n",
       "        text-align: right;\n",
       "    }\n",
       "</style>\n",
       "<table border=\"1\" class=\"dataframe\">\n",
       "  <thead>\n",
       "    <tr style=\"text-align: right;\">\n",
       "      <th></th>\n",
       "      <th>LOCATION</th>\n",
       "      <th>INDICATOR</th>\n",
       "      <th>SUBJECT</th>\n",
       "      <th>MEASURE</th>\n",
       "      <th>FREQUENCY</th>\n",
       "      <th>Value</th>\n",
       "      <th>quarter</th>\n",
       "      <th>year</th>\n",
       "    </tr>\n",
       "  </thead>\n",
       "  <tbody>\n",
       "    <tr>\n",
       "      <th>28937</th>\n",
       "      <td>USA</td>\n",
       "      <td>PPI</td>\n",
       "      <td>TOT_MKT</td>\n",
       "      <td>AGRWTH</td>\n",
       "      <td>Q</td>\n",
       "      <td>8.487689</td>\n",
       "      <td>1</td>\n",
       "      <td>1948</td>\n",
       "    </tr>\n",
       "    <tr>\n",
       "      <th>28938</th>\n",
       "      <td>USA</td>\n",
       "      <td>PPI</td>\n",
       "      <td>TOT_MKT</td>\n",
       "      <td>AGRWTH</td>\n",
       "      <td>Q</td>\n",
       "      <td>8.751609</td>\n",
       "      <td>2</td>\n",
       "      <td>1948</td>\n",
       "    </tr>\n",
       "    <tr>\n",
       "      <th>28939</th>\n",
       "      <td>USA</td>\n",
       "      <td>PPI</td>\n",
       "      <td>TOT_MKT</td>\n",
       "      <td>AGRWTH</td>\n",
       "      <td>Q</td>\n",
       "      <td>9.193954</td>\n",
       "      <td>3</td>\n",
       "      <td>1948</td>\n",
       "    </tr>\n",
       "    <tr>\n",
       "      <th>28940</th>\n",
       "      <td>USA</td>\n",
       "      <td>PPI</td>\n",
       "      <td>TOT_MKT</td>\n",
       "      <td>AGRWTH</td>\n",
       "      <td>Q</td>\n",
       "      <td>5.000002</td>\n",
       "      <td>4</td>\n",
       "      <td>1948</td>\n",
       "    </tr>\n",
       "    <tr>\n",
       "      <th>28941</th>\n",
       "      <td>USA</td>\n",
       "      <td>PPI</td>\n",
       "      <td>TOT_MKT</td>\n",
       "      <td>AGRWTH</td>\n",
       "      <td>Q</td>\n",
       "      <td>0.357569</td>\n",
       "      <td>1</td>\n",
       "      <td>1949</td>\n",
       "    </tr>\n",
       "  </tbody>\n",
       "</table>\n",
       "</div>"
      ],
      "text/plain": [
       "      LOCATION INDICATOR  SUBJECT MEASURE FREQUENCY     Value  quarter  year\n",
       "28937      USA       PPI  TOT_MKT  AGRWTH         Q  8.487689        1  1948\n",
       "28938      USA       PPI  TOT_MKT  AGRWTH         Q  8.751609        2  1948\n",
       "28939      USA       PPI  TOT_MKT  AGRWTH         Q  9.193954        3  1948\n",
       "28940      USA       PPI  TOT_MKT  AGRWTH         Q  5.000002        4  1948\n",
       "28941      USA       PPI  TOT_MKT  AGRWTH         Q  0.357569        1  1949"
      ]
     },
     "execution_count": 31,
     "metadata": {},
     "output_type": "execute_result"
    }
   ],
   "source": [
    "a= usaData_q[\"TIME\"].str.split('-',expand=True)\n",
    "usaData_q['quarter']=a[1].str.replace('Q',\"\")\n",
    "usaData_q['year']=a[0]\n",
    "usaData_q.drop('TIME',axis=1,inplace =True)\n",
    "usaData_q.drop('Flag Codes',axis=1,inplace =True)\n",
    "usaData_q['quarter']=usaData_q['quarter'].astype(int)\n",
    "usaData_q['year']=usaData_q['year'].astype(int)\n",
    "usaData_q.head()"
   ]
  },
  {
   "cell_type": "code",
   "execution_count": 33,
   "id": "82679ec2",
   "metadata": {},
   "outputs": [
    {
     "data": {
      "text/html": [
       "<div>\n",
       "<style scoped>\n",
       "    .dataframe tbody tr th:only-of-type {\n",
       "        vertical-align: middle;\n",
       "    }\n",
       "\n",
       "    .dataframe tbody tr th {\n",
       "        vertical-align: top;\n",
       "    }\n",
       "\n",
       "    .dataframe thead th {\n",
       "        text-align: right;\n",
       "    }\n",
       "</style>\n",
       "<table border=\"1\" class=\"dataframe\">\n",
       "  <thead>\n",
       "    <tr style=\"text-align: right;\">\n",
       "      <th></th>\n",
       "      <th>LOCATION</th>\n",
       "      <th>INDICATOR</th>\n",
       "      <th>SUBJECT</th>\n",
       "      <th>MEASURE</th>\n",
       "      <th>FREQUENCY</th>\n",
       "      <th>Quaterly_gdp_value</th>\n",
       "      <th>quarter</th>\n",
       "      <th>year</th>\n",
       "    </tr>\n",
       "  </thead>\n",
       "  <tbody>\n",
       "    <tr>\n",
       "      <th>50705</th>\n",
       "      <td>USA</td>\n",
       "      <td>PPI</td>\n",
       "      <td>TOT_MKT</td>\n",
       "      <td>IDX2015</td>\n",
       "      <td>Q</td>\n",
       "      <td>103.7456</td>\n",
       "      <td>1</td>\n",
       "      <td>2012</td>\n",
       "    </tr>\n",
       "    <tr>\n",
       "      <th>50706</th>\n",
       "      <td>USA</td>\n",
       "      <td>PPI</td>\n",
       "      <td>TOT_MKT</td>\n",
       "      <td>IDX2015</td>\n",
       "      <td>Q</td>\n",
       "      <td>104.1947</td>\n",
       "      <td>2</td>\n",
       "      <td>2012</td>\n",
       "    </tr>\n",
       "    <tr>\n",
       "      <th>50707</th>\n",
       "      <td>USA</td>\n",
       "      <td>PPI</td>\n",
       "      <td>TOT_MKT</td>\n",
       "      <td>IDX2015</td>\n",
       "      <td>Q</td>\n",
       "      <td>104.2127</td>\n",
       "      <td>3</td>\n",
       "      <td>2012</td>\n",
       "    </tr>\n",
       "    <tr>\n",
       "      <th>50708</th>\n",
       "      <td>USA</td>\n",
       "      <td>PPI</td>\n",
       "      <td>TOT_MKT</td>\n",
       "      <td>IDX2015</td>\n",
       "      <td>Q</td>\n",
       "      <td>104.1049</td>\n",
       "      <td>4</td>\n",
       "      <td>2012</td>\n",
       "    </tr>\n",
       "    <tr>\n",
       "      <th>50709</th>\n",
       "      <td>USA</td>\n",
       "      <td>PPI</td>\n",
       "      <td>TOT_MKT</td>\n",
       "      <td>IDX2015</td>\n",
       "      <td>Q</td>\n",
       "      <td>104.6079</td>\n",
       "      <td>1</td>\n",
       "      <td>2013</td>\n",
       "    </tr>\n",
       "  </tbody>\n",
       "</table>\n",
       "</div>"
      ],
      "text/plain": [
       "      LOCATION INDICATOR  SUBJECT  MEASURE FREQUENCY  Quaterly_gdp_value  \\\n",
       "50705      USA       PPI  TOT_MKT  IDX2015         Q            103.7456   \n",
       "50706      USA       PPI  TOT_MKT  IDX2015         Q            104.1947   \n",
       "50707      USA       PPI  TOT_MKT  IDX2015         Q            104.2127   \n",
       "50708      USA       PPI  TOT_MKT  IDX2015         Q            104.1049   \n",
       "50709      USA       PPI  TOT_MKT  IDX2015         Q            104.6079   \n",
       "\n",
       "       quarter  year  \n",
       "50705        1  2012  \n",
       "50706        2  2012  \n",
       "50707        3  2012  \n",
       "50708        4  2012  \n",
       "50709        1  2013  "
      ]
     },
     "execution_count": 33,
     "metadata": {},
     "output_type": "execute_result"
    }
   ],
   "source": [
    "data_quarterly=usaData_q[(usaData_q['year']>2011) &(usaData_q['MEASURE']=='IDX2015')]\n",
    "data_quarterly.rename(columns={'Value':'Quaterly_gdp_value'},inplace =True)\n",
    "data_quarterly.head()"
   ]
  },
  {
   "cell_type": "code",
   "execution_count": 35,
   "id": "4f4e3efa",
   "metadata": {},
   "outputs": [],
   "source": [
    "usaData_m=df[(df['LOCATION']=='USA') & (df['FREQUENCY']=='M')]"
   ]
  },
  {
   "cell_type": "code",
   "execution_count": 36,
   "id": "58eb21c2",
   "metadata": {},
   "outputs": [
    {
     "data": {
      "text/html": [
       "<div>\n",
       "<style scoped>\n",
       "    .dataframe tbody tr th:only-of-type {\n",
       "        vertical-align: middle;\n",
       "    }\n",
       "\n",
       "    .dataframe tbody tr th {\n",
       "        vertical-align: top;\n",
       "    }\n",
       "\n",
       "    .dataframe thead th {\n",
       "        text-align: right;\n",
       "    }\n",
       "</style>\n",
       "<table border=\"1\" class=\"dataframe\">\n",
       "  <thead>\n",
       "    <tr style=\"text-align: right;\">\n",
       "      <th></th>\n",
       "      <th>LOCATION</th>\n",
       "      <th>INDICATOR</th>\n",
       "      <th>SUBJECT</th>\n",
       "      <th>MEASURE</th>\n",
       "      <th>FREQUENCY</th>\n",
       "      <th>Value</th>\n",
       "      <th>month</th>\n",
       "      <th>year</th>\n",
       "    </tr>\n",
       "  </thead>\n",
       "  <tbody>\n",
       "    <tr>\n",
       "      <th>37437</th>\n",
       "      <td>USA</td>\n",
       "      <td>PPI</td>\n",
       "      <td>TOT_MKT</td>\n",
       "      <td>AGRWTH</td>\n",
       "      <td>M</td>\n",
       "      <td>9.611639</td>\n",
       "      <td>1</td>\n",
       "      <td>1948</td>\n",
       "    </tr>\n",
       "    <tr>\n",
       "      <th>37438</th>\n",
       "      <td>USA</td>\n",
       "      <td>PPI</td>\n",
       "      <td>TOT_MKT</td>\n",
       "      <td>AGRWTH</td>\n",
       "      <td>M</td>\n",
       "      <td>8.560311</td>\n",
       "      <td>2</td>\n",
       "      <td>1948</td>\n",
       "    </tr>\n",
       "    <tr>\n",
       "      <th>37439</th>\n",
       "      <td>USA</td>\n",
       "      <td>PPI</td>\n",
       "      <td>TOT_MKT</td>\n",
       "      <td>AGRWTH</td>\n",
       "      <td>M</td>\n",
       "      <td>7.307692</td>\n",
       "      <td>3</td>\n",
       "      <td>1948</td>\n",
       "    </tr>\n",
       "    <tr>\n",
       "      <th>37440</th>\n",
       "      <td>USA</td>\n",
       "      <td>PPI</td>\n",
       "      <td>TOT_MKT</td>\n",
       "      <td>AGRWTH</td>\n",
       "      <td>M</td>\n",
       "      <td>8.108108</td>\n",
       "      <td>4</td>\n",
       "      <td>1948</td>\n",
       "    </tr>\n",
       "    <tr>\n",
       "      <th>37441</th>\n",
       "      <td>USA</td>\n",
       "      <td>PPI</td>\n",
       "      <td>TOT_MKT</td>\n",
       "      <td>AGRWTH</td>\n",
       "      <td>M</td>\n",
       "      <td>8.880309</td>\n",
       "      <td>5</td>\n",
       "      <td>1948</td>\n",
       "    </tr>\n",
       "  </tbody>\n",
       "</table>\n",
       "</div>"
      ],
      "text/plain": [
       "      LOCATION INDICATOR  SUBJECT MEASURE FREQUENCY     Value  month  year\n",
       "37437      USA       PPI  TOT_MKT  AGRWTH         M  9.611639      1  1948\n",
       "37438      USA       PPI  TOT_MKT  AGRWTH         M  8.560311      2  1948\n",
       "37439      USA       PPI  TOT_MKT  AGRWTH         M  7.307692      3  1948\n",
       "37440      USA       PPI  TOT_MKT  AGRWTH         M  8.108108      4  1948\n",
       "37441      USA       PPI  TOT_MKT  AGRWTH         M  8.880309      5  1948"
      ]
     },
     "execution_count": 36,
     "metadata": {},
     "output_type": "execute_result"
    }
   ],
   "source": [
    "a= usaData_m[\"TIME\"].str.split('-',expand=True)\n",
    "usaData_m['month']=a[1]\n",
    "usaData_m['year']=a[0]\n",
    "usaData_m['month']=usaData_m['month'].astype(int)\n",
    "usaData_m['year']=usaData_m['year'].astype(int)\n",
    "usaData_m.drop('TIME',axis =1,inplace =True)\n",
    "usaData_m.drop('Flag Codes',axis =1,inplace =True)\n",
    "usaData_m.head()\n"
   ]
  },
  {
   "cell_type": "code",
   "execution_count": 37,
   "id": "671b58ac",
   "metadata": {},
   "outputs": [
    {
     "data": {
      "text/html": [
       "<div>\n",
       "<style scoped>\n",
       "    .dataframe tbody tr th:only-of-type {\n",
       "        vertical-align: middle;\n",
       "    }\n",
       "\n",
       "    .dataframe tbody tr th {\n",
       "        vertical-align: top;\n",
       "    }\n",
       "\n",
       "    .dataframe thead th {\n",
       "        text-align: right;\n",
       "    }\n",
       "</style>\n",
       "<table border=\"1\" class=\"dataframe\">\n",
       "  <thead>\n",
       "    <tr style=\"text-align: right;\">\n",
       "      <th></th>\n",
       "      <th>LOCATION</th>\n",
       "      <th>INDICATOR</th>\n",
       "      <th>SUBJECT</th>\n",
       "      <th>MEASURE</th>\n",
       "      <th>FREQUENCY</th>\n",
       "      <th>Monthly_gdp_value</th>\n",
       "      <th>month</th>\n",
       "      <th>year</th>\n",
       "    </tr>\n",
       "  </thead>\n",
       "  <tbody>\n",
       "    <tr>\n",
       "      <th>75564</th>\n",
       "      <td>USA</td>\n",
       "      <td>PPI</td>\n",
       "      <td>TOT_MKT</td>\n",
       "      <td>IDX2015</td>\n",
       "      <td>M</td>\n",
       "      <td>102.9911</td>\n",
       "      <td>1</td>\n",
       "      <td>2012</td>\n",
       "    </tr>\n",
       "    <tr>\n",
       "      <th>75565</th>\n",
       "      <td>USA</td>\n",
       "      <td>PPI</td>\n",
       "      <td>TOT_MKT</td>\n",
       "      <td>IDX2015</td>\n",
       "      <td>M</td>\n",
       "      <td>103.5300</td>\n",
       "      <td>2</td>\n",
       "      <td>2012</td>\n",
       "    </tr>\n",
       "    <tr>\n",
       "      <th>75566</th>\n",
       "      <td>USA</td>\n",
       "      <td>PPI</td>\n",
       "      <td>TOT_MKT</td>\n",
       "      <td>IDX2015</td>\n",
       "      <td>M</td>\n",
       "      <td>104.7157</td>\n",
       "      <td>3</td>\n",
       "      <td>2012</td>\n",
       "    </tr>\n",
       "    <tr>\n",
       "      <th>75567</th>\n",
       "      <td>USA</td>\n",
       "      <td>PPI</td>\n",
       "      <td>TOT_MKT</td>\n",
       "      <td>IDX2015</td>\n",
       "      <td>M</td>\n",
       "      <td>104.9313</td>\n",
       "      <td>4</td>\n",
       "      <td>2012</td>\n",
       "    </tr>\n",
       "    <tr>\n",
       "      <th>75568</th>\n",
       "      <td>USA</td>\n",
       "      <td>PPI</td>\n",
       "      <td>TOT_MKT</td>\n",
       "      <td>IDX2015</td>\n",
       "      <td>M</td>\n",
       "      <td>104.3385</td>\n",
       "      <td>5</td>\n",
       "      <td>2012</td>\n",
       "    </tr>\n",
       "  </tbody>\n",
       "</table>\n",
       "</div>"
      ],
      "text/plain": [
       "      LOCATION INDICATOR  SUBJECT  MEASURE FREQUENCY  Monthly_gdp_value  \\\n",
       "75564      USA       PPI  TOT_MKT  IDX2015         M           102.9911   \n",
       "75565      USA       PPI  TOT_MKT  IDX2015         M           103.5300   \n",
       "75566      USA       PPI  TOT_MKT  IDX2015         M           104.7157   \n",
       "75567      USA       PPI  TOT_MKT  IDX2015         M           104.9313   \n",
       "75568      USA       PPI  TOT_MKT  IDX2015         M           104.3385   \n",
       "\n",
       "       month  year  \n",
       "75564      1  2012  \n",
       "75565      2  2012  \n",
       "75566      3  2012  \n",
       "75567      4  2012  \n",
       "75568      5  2012  "
      ]
     },
     "execution_count": 37,
     "metadata": {},
     "output_type": "execute_result"
    }
   ],
   "source": [
    "data_monthly=usaData_m[(usaData_m['year']>2011) & (usaData_m['MEASURE']=='IDX2015')].copy()\n",
    "data_monthly.rename(columns={'Value':'Monthly_gdp_value'},inplace=True)\n",
    "data_monthly.head()"
   ]
  },
  {
   "cell_type": "code",
   "execution_count": 38,
   "id": "6f1cea21",
   "metadata": {},
   "outputs": [],
   "source": [
    "data_monthly.to_csv('usa_gdp_monthly.csv',index=False)"
   ]
  },
  {
   "cell_type": "code",
   "execution_count": null,
   "id": "0b199fa9",
   "metadata": {},
   "outputs": [],
   "source": []
  },
  {
   "cell_type": "markdown",
   "id": "d7d051ad",
   "metadata": {},
   "source": [
    "#### Handling Categorical Features"
   ]
  },
  {
   "cell_type": "code",
   "execution_count": 22,
   "id": "249efaf6",
   "metadata": {},
   "outputs": [],
   "source": [
    "def dummy(df):\n",
    "    dummies = []\n",
    "    for i in df.select_dtypes(exclude = np.number).columns:\n",
    "        if df[i].nunique() > 1 and df[i].nunique() < 9:\n",
    "            dummies.append(i)\n",
    "    return dummies\n",
    "df = pd.get_dummies(df , columns = dummy(df) , drop_first = True)"
   ]
  },
  {
   "cell_type": "code",
   "execution_count": 23,
   "id": "7e091a26",
   "metadata": {},
   "outputs": [
    {
     "data": {
      "text/html": [
       "<div>\n",
       "<style scoped>\n",
       "    .dataframe tbody tr th:only-of-type {\n",
       "        vertical-align: middle;\n",
       "    }\n",
       "\n",
       "    .dataframe tbody tr th {\n",
       "        vertical-align: top;\n",
       "    }\n",
       "\n",
       "    .dataframe thead th {\n",
       "        text-align: right;\n",
       "    }\n",
       "</style>\n",
       "<table border=\"1\" class=\"dataframe\">\n",
       "  <thead>\n",
       "    <tr style=\"text-align: right;\">\n",
       "      <th></th>\n",
       "      <th>LOCATION</th>\n",
       "      <th>INDICATOR</th>\n",
       "      <th>Value</th>\n",
       "      <th>Year</th>\n",
       "      <th>Quarter</th>\n",
       "      <th>SUBJECT_TOT_MKT</th>\n",
       "      <th>MEASURE_IDX2015</th>\n",
       "      <th>FREQUENCY_M</th>\n",
       "      <th>FREQUENCY_Q</th>\n",
       "    </tr>\n",
       "  </thead>\n",
       "  <tbody>\n",
       "    <tr>\n",
       "      <th>0</th>\n",
       "      <td>AUT</td>\n",
       "      <td>PPI</td>\n",
       "      <td>3.405336</td>\n",
       "      <td>2000</td>\n",
       "      <td>1</td>\n",
       "      <td>0</td>\n",
       "      <td>0</td>\n",
       "      <td>0</td>\n",
       "      <td>0</td>\n",
       "    </tr>\n",
       "    <tr>\n",
       "      <th>1</th>\n",
       "      <td>AUT</td>\n",
       "      <td>PPI</td>\n",
       "      <td>0.048577</td>\n",
       "      <td>2001</td>\n",
       "      <td>1</td>\n",
       "      <td>0</td>\n",
       "      <td>0</td>\n",
       "      <td>0</td>\n",
       "      <td>0</td>\n",
       "    </tr>\n",
       "    <tr>\n",
       "      <th>2</th>\n",
       "      <td>AUT</td>\n",
       "      <td>PPI</td>\n",
       "      <td>-1.408040</td>\n",
       "      <td>2002</td>\n",
       "      <td>1</td>\n",
       "      <td>0</td>\n",
       "      <td>0</td>\n",
       "      <td>0</td>\n",
       "      <td>0</td>\n",
       "    </tr>\n",
       "    <tr>\n",
       "      <th>3</th>\n",
       "      <td>AUT</td>\n",
       "      <td>PPI</td>\n",
       "      <td>0.285630</td>\n",
       "      <td>2003</td>\n",
       "      <td>1</td>\n",
       "      <td>0</td>\n",
       "      <td>0</td>\n",
       "      <td>0</td>\n",
       "      <td>0</td>\n",
       "    </tr>\n",
       "    <tr>\n",
       "      <th>4</th>\n",
       "      <td>AUT</td>\n",
       "      <td>PPI</td>\n",
       "      <td>2.219603</td>\n",
       "      <td>2004</td>\n",
       "      <td>1</td>\n",
       "      <td>0</td>\n",
       "      <td>0</td>\n",
       "      <td>0</td>\n",
       "      <td>0</td>\n",
       "    </tr>\n",
       "  </tbody>\n",
       "</table>\n",
       "</div>"
      ],
      "text/plain": [
       "  LOCATION INDICATOR     Value  Year  Quarter  SUBJECT_TOT_MKT  \\\n",
       "0      AUT       PPI  3.405336  2000        1                0   \n",
       "1      AUT       PPI  0.048577  2001        1                0   \n",
       "2      AUT       PPI -1.408040  2002        1                0   \n",
       "3      AUT       PPI  0.285630  2003        1                0   \n",
       "4      AUT       PPI  2.219603  2004        1                0   \n",
       "\n",
       "   MEASURE_IDX2015  FREQUENCY_M  FREQUENCY_Q  \n",
       "0                0            0            0  \n",
       "1                0            0            0  \n",
       "2                0            0            0  \n",
       "3                0            0            0  \n",
       "4                0            0            0  "
      ]
     },
     "execution_count": 23,
     "metadata": {},
     "output_type": "execute_result"
    }
   ],
   "source": [
    "df.head()"
   ]
  },
  {
   "cell_type": "code",
   "execution_count": 24,
   "id": "b8d00937",
   "metadata": {},
   "outputs": [
    {
     "data": {
      "text/html": [
       "<div>\n",
       "<style scoped>\n",
       "    .dataframe tbody tr th:only-of-type {\n",
       "        vertical-align: middle;\n",
       "    }\n",
       "\n",
       "    .dataframe tbody tr th {\n",
       "        vertical-align: top;\n",
       "    }\n",
       "\n",
       "    .dataframe thead th {\n",
       "        text-align: right;\n",
       "    }\n",
       "</style>\n",
       "<table border=\"1\" class=\"dataframe\">\n",
       "  <thead>\n",
       "    <tr style=\"text-align: right;\">\n",
       "      <th></th>\n",
       "      <th>LOCATION</th>\n",
       "      <th>INDICATOR</th>\n",
       "      <th>Value</th>\n",
       "      <th>Year</th>\n",
       "      <th>Quarter</th>\n",
       "      <th>SUBJECT_TOT_MKT</th>\n",
       "      <th>MEASURE_IDX2015</th>\n",
       "      <th>FREQUENCY_M</th>\n",
       "      <th>FREQUENCY_Q</th>\n",
       "    </tr>\n",
       "  </thead>\n",
       "  <tbody>\n",
       "    <tr>\n",
       "      <th>0</th>\n",
       "      <td>1516</td>\n",
       "      <td>PPI</td>\n",
       "      <td>3.405336</td>\n",
       "      <td>2000</td>\n",
       "      <td>1</td>\n",
       "      <td>0</td>\n",
       "      <td>0</td>\n",
       "      <td>0</td>\n",
       "      <td>0</td>\n",
       "    </tr>\n",
       "    <tr>\n",
       "      <th>1</th>\n",
       "      <td>1516</td>\n",
       "      <td>PPI</td>\n",
       "      <td>0.048577</td>\n",
       "      <td>2001</td>\n",
       "      <td>1</td>\n",
       "      <td>0</td>\n",
       "      <td>0</td>\n",
       "      <td>0</td>\n",
       "      <td>0</td>\n",
       "    </tr>\n",
       "    <tr>\n",
       "      <th>2</th>\n",
       "      <td>1516</td>\n",
       "      <td>PPI</td>\n",
       "      <td>-1.408040</td>\n",
       "      <td>2002</td>\n",
       "      <td>1</td>\n",
       "      <td>0</td>\n",
       "      <td>0</td>\n",
       "      <td>0</td>\n",
       "      <td>0</td>\n",
       "    </tr>\n",
       "    <tr>\n",
       "      <th>3</th>\n",
       "      <td>1516</td>\n",
       "      <td>PPI</td>\n",
       "      <td>0.285630</td>\n",
       "      <td>2003</td>\n",
       "      <td>1</td>\n",
       "      <td>0</td>\n",
       "      <td>0</td>\n",
       "      <td>0</td>\n",
       "      <td>0</td>\n",
       "    </tr>\n",
       "    <tr>\n",
       "      <th>4</th>\n",
       "      <td>1516</td>\n",
       "      <td>PPI</td>\n",
       "      <td>2.219603</td>\n",
       "      <td>2004</td>\n",
       "      <td>1</td>\n",
       "      <td>0</td>\n",
       "      <td>0</td>\n",
       "      <td>0</td>\n",
       "      <td>0</td>\n",
       "    </tr>\n",
       "  </tbody>\n",
       "</table>\n",
       "</div>"
      ],
      "text/plain": [
       "   LOCATION INDICATOR     Value  Year  Quarter  SUBJECT_TOT_MKT  \\\n",
       "0      1516       PPI  3.405336  2000        1                0   \n",
       "1      1516       PPI  0.048577  2001        1                0   \n",
       "2      1516       PPI -1.408040  2002        1                0   \n",
       "3      1516       PPI  0.285630  2003        1                0   \n",
       "4      1516       PPI  2.219603  2004        1                0   \n",
       "\n",
       "   MEASURE_IDX2015  FREQUENCY_M  FREQUENCY_Q  \n",
       "0                0            0            0  \n",
       "1                0            0            0  \n",
       "2                0            0            0  \n",
       "3                0            0            0  \n",
       "4                0            0            0  "
      ]
     },
     "execution_count": 24,
     "metadata": {},
     "output_type": "execute_result"
    }
   ],
   "source": [
    "#Encoding of location based on value counts as all value counts are unique\n",
    "def encoding(df,col):\n",
    "  x = df[col].value_counts().to_dict()\n",
    "  df[col] = df[col].map(x)\n",
    "  return df\n",
    "\n",
    "new_df = encoding(df, \"LOCATION\")\n",
    "new_df.head()"
   ]
  },
  {
   "cell_type": "code",
   "execution_count": 25,
   "id": "89c8fbd1",
   "metadata": {},
   "outputs": [
    {
     "data": {
      "text/html": [
       "<div>\n",
       "<style scoped>\n",
       "    .dataframe tbody tr th:only-of-type {\n",
       "        vertical-align: middle;\n",
       "    }\n",
       "\n",
       "    .dataframe tbody tr th {\n",
       "        vertical-align: top;\n",
       "    }\n",
       "\n",
       "    .dataframe thead th {\n",
       "        text-align: right;\n",
       "    }\n",
       "</style>\n",
       "<table border=\"1\" class=\"dataframe\">\n",
       "  <thead>\n",
       "    <tr style=\"text-align: right;\">\n",
       "      <th></th>\n",
       "      <th>LOCATION</th>\n",
       "      <th>Value</th>\n",
       "      <th>Year</th>\n",
       "      <th>Quarter</th>\n",
       "      <th>SUBJECT_TOT_MKT</th>\n",
       "      <th>MEASURE_IDX2015</th>\n",
       "      <th>FREQUENCY_M</th>\n",
       "      <th>FREQUENCY_Q</th>\n",
       "    </tr>\n",
       "  </thead>\n",
       "  <tbody>\n",
       "    <tr>\n",
       "      <th>0</th>\n",
       "      <td>1516</td>\n",
       "      <td>3.405336</td>\n",
       "      <td>2000</td>\n",
       "      <td>1</td>\n",
       "      <td>0</td>\n",
       "      <td>0</td>\n",
       "      <td>0</td>\n",
       "      <td>0</td>\n",
       "    </tr>\n",
       "    <tr>\n",
       "      <th>1</th>\n",
       "      <td>1516</td>\n",
       "      <td>0.048577</td>\n",
       "      <td>2001</td>\n",
       "      <td>1</td>\n",
       "      <td>0</td>\n",
       "      <td>0</td>\n",
       "      <td>0</td>\n",
       "      <td>0</td>\n",
       "    </tr>\n",
       "    <tr>\n",
       "      <th>2</th>\n",
       "      <td>1516</td>\n",
       "      <td>-1.408040</td>\n",
       "      <td>2002</td>\n",
       "      <td>1</td>\n",
       "      <td>0</td>\n",
       "      <td>0</td>\n",
       "      <td>0</td>\n",
       "      <td>0</td>\n",
       "    </tr>\n",
       "    <tr>\n",
       "      <th>3</th>\n",
       "      <td>1516</td>\n",
       "      <td>0.285630</td>\n",
       "      <td>2003</td>\n",
       "      <td>1</td>\n",
       "      <td>0</td>\n",
       "      <td>0</td>\n",
       "      <td>0</td>\n",
       "      <td>0</td>\n",
       "    </tr>\n",
       "    <tr>\n",
       "      <th>4</th>\n",
       "      <td>1516</td>\n",
       "      <td>2.219603</td>\n",
       "      <td>2004</td>\n",
       "      <td>1</td>\n",
       "      <td>0</td>\n",
       "      <td>0</td>\n",
       "      <td>0</td>\n",
       "      <td>0</td>\n",
       "    </tr>\n",
       "  </tbody>\n",
       "</table>\n",
       "</div>"
      ],
      "text/plain": [
       "   LOCATION     Value  Year  Quarter  SUBJECT_TOT_MKT  MEASURE_IDX2015  \\\n",
       "0      1516  3.405336  2000        1                0                0   \n",
       "1      1516  0.048577  2001        1                0                0   \n",
       "2      1516 -1.408040  2002        1                0                0   \n",
       "3      1516  0.285630  2003        1                0                0   \n",
       "4      1516  2.219603  2004        1                0                0   \n",
       "\n",
       "   FREQUENCY_M  FREQUENCY_Q  \n",
       "0            0            0  \n",
       "1            0            0  \n",
       "2            0            0  \n",
       "3            0            0  \n",
       "4            0            0  "
      ]
     },
     "execution_count": 25,
     "metadata": {},
     "output_type": "execute_result"
    }
   ],
   "source": [
    "# drop indicator column\n",
    "new_df.drop(\"INDICATOR\", axis=1, inplace=True)\n",
    "new_df.head()"
   ]
  }
 ],
 "metadata": {
  "kernelspec": {
   "display_name": "Python 3 (ipykernel)",
   "language": "python",
   "name": "python3"
  },
  "language_info": {
   "codemirror_mode": {
    "name": "ipython",
    "version": 3
   },
   "file_extension": ".py",
   "mimetype": "text/x-python",
   "name": "python",
   "nbconvert_exporter": "python",
   "pygments_lexer": "ipython3",
   "version": "3.9.12"
  }
 },
 "nbformat": 4,
 "nbformat_minor": 5
}
